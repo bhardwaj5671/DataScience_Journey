{
 "cells": [
  {
   "cell_type": "markdown",
   "id": "7e9952de-64ef-4b81-a9a1-eb290fa73cc9",
   "metadata": {},
   "source": [
    "<h1 style=\"color:blue\">Part A: Airbnb Price Prediction and Insights</h1>"
   ]
  },
  {
   "cell_type": "markdown",
   "id": "e6fbcdc6-a50e-4518-9b25-ddd0e1c38186",
   "metadata": {},
   "source": [
    "<h4>1. Overview</h4>"
   ]
  },
  {
   "cell_type": "markdown",
   "id": "c0ba40d8-90a7-4e77-be5d-55ec3cfc39a6",
   "metadata": {},
   "source": [
    "<p>Airbnb provides a platform for property owners to rent out their spaces to travelers. Pricing a\r\n",
    "listing effectively is critical for maximizing revenue while staying competitive in the market.\r\n",
    "For hosts, understanding what factors influence the price of their listings is essential.\r",
    "</<br>\n",
    "<p>This project aims to build a machine learning model to predict the price of Airbnb listings\r\n",
    "based on various features such as property type, room type, location, amenities, and host\r\n",
    "characteristics. By analyzing these factors, this project will provide actionable insights to\r\n",
    "Airbnb hosts to optimize their listing pri </p>/p>p>"
   ]
  },
  {
   "cell_type": "markdown",
   "id": "37688f62-169f-4e7c-9c3e-b3401f4f77f6",
   "metadata": {},
   "source": [
    "<h4>2. Problem Statemen</h4>"
   ]
  },
  {
   "cell_type": "markdown",
   "id": "220a184d-25e7-416c-86ec-f1f106610291",
   "metadata": {},
   "source": [
    "<p>The primary objective of this project is to develop a regression model that predicts the price\r\n",
    "of an Airbnb listing. Using features such as property type, room type, number of reviews,\r\n",
    "location, and amenities, the model will aim to estimate the price accurately.\r\n",
    "The insights derived from this analysis will help Airbnb hosts understand the key drivers of\r\n",
    "price, enabling them to make data-driven decisions for pricing their properties. Additionally,\r\n",
    "the project will help Airbnb refine its recommendations for pricing to improve host and guest\r\n",
    "satisfaction.</p>"
   ]
  },
  {
   "cell_type": "markdown",
   "id": "bcb7469e-21db-4104-9e7d-0034b3f87118",
   "metadata": {},
   "source": [
    "<h4>3. Data Information</h4>"
   ]
  },
  {
   "cell_type": "markdown",
   "id": "41cc3632-8917-4165-bfbc-2816f9961c12",
   "metadata": {},
   "source": [
    "<a href=\"https://docs.google.com/document/d/1BhJoNJ9RgTgAHbAiOXh6tgTSjtuFkPox/edit?usp=sharing&ouid=103283051675327639429&rtpof=true&sd=true\">DataSet</a>"
   ]
  },
  {
   "cell_type": "markdown",
   "id": "71e846e3-7561-4a6a-b3f8-3710d4c7729e",
   "metadata": {},
   "source": [
    "<h2> Deliverables </h2>"
   ]
  },
  {
   "cell_type": "markdown",
   "id": "e5d27f35-b946-44fc-8b17-d27e128977ef",
   "metadata": {},
   "source": [
    "<h4>1.Data Exploration and Preprocessing (10 Marks):</h4>\n",
    "<p>Analyze the dataset for trends, missing values, and outliers.</p>\r",
    "<p> Perform data cleaning, feature engineering, and transformations.\r",
    "</p>"
   ]
  },
  {
   "cell_type": "code",
   "execution_count": 1,
   "id": "58f64354-6a30-4345-a4ed-1c3a2345082d",
   "metadata": {},
   "outputs": [],
   "source": [
    "import numpy as np\n",
    "import pandas as pd"
   ]
  },
  {
   "cell_type": "code",
   "execution_count": 208,
   "id": "c59050cc-04f6-4ac2-b64a-0146bdec74fe",
   "metadata": {},
   "outputs": [],
   "source": [
    "df = pd.read_csv(\"Airbnb_data - airbnb_data.csv\")"
   ]
  },
  {
   "cell_type": "markdown",
   "id": "78a2f7c7-3d01-44ee-b8c2-217e3b9ec6bc",
   "metadata": {},
   "source": [
    "<h2>Data Dectionary</h2>\n",
    "<a href=\"https://docs.google.com/document/d/1BhJoNJ9RgTgAHbAiOXh6tgTSjtuFkPox/edit\">Details Of DataSet</a>\n"
   ]
  },
  {
   "cell_type": "code",
   "execution_count": 209,
   "id": "8154646b-316d-41b9-a4ef-8ebc74e5601e",
   "metadata": {},
   "outputs": [
    {
     "data": {
      "text/html": [
       "<div>\n",
       "<style scoped>\n",
       "    .dataframe tbody tr th:only-of-type {\n",
       "        vertical-align: middle;\n",
       "    }\n",
       "\n",
       "    .dataframe tbody tr th {\n",
       "        vertical-align: top;\n",
       "    }\n",
       "\n",
       "    .dataframe thead th {\n",
       "        text-align: right;\n",
       "    }\n",
       "</style>\n",
       "<table border=\"1\" class=\"dataframe\">\n",
       "  <thead>\n",
       "    <tr style=\"text-align: right;\">\n",
       "      <th></th>\n",
       "      <th>id</th>\n",
       "      <th>log_price</th>\n",
       "      <th>property_type</th>\n",
       "      <th>room_type</th>\n",
       "      <th>amenities</th>\n",
       "      <th>accommodates</th>\n",
       "      <th>bathrooms</th>\n",
       "      <th>bed_type</th>\n",
       "      <th>cancellation_policy</th>\n",
       "      <th>cleaning_fee</th>\n",
       "      <th>...</th>\n",
       "      <th>latitude</th>\n",
       "      <th>longitude</th>\n",
       "      <th>name</th>\n",
       "      <th>neighbourhood</th>\n",
       "      <th>number_of_reviews</th>\n",
       "      <th>review_scores_rating</th>\n",
       "      <th>thumbnail_url</th>\n",
       "      <th>zipcode</th>\n",
       "      <th>bedrooms</th>\n",
       "      <th>beds</th>\n",
       "    </tr>\n",
       "  </thead>\n",
       "  <tbody>\n",
       "    <tr>\n",
       "      <th>0</th>\n",
       "      <td>6901257</td>\n",
       "      <td>5.010635</td>\n",
       "      <td>Apartment</td>\n",
       "      <td>Entire home/apt</td>\n",
       "      <td>{\"Wireless Internet\",\"Air conditioning\",Kitche...</td>\n",
       "      <td>3</td>\n",
       "      <td>1.0</td>\n",
       "      <td>Real Bed</td>\n",
       "      <td>strict</td>\n",
       "      <td>True</td>\n",
       "      <td>...</td>\n",
       "      <td>40.696524</td>\n",
       "      <td>-73.991617</td>\n",
       "      <td>Beautiful brownstone 1-bedroom</td>\n",
       "      <td>Brooklyn Heights</td>\n",
       "      <td>2</td>\n",
       "      <td>100.0</td>\n",
       "      <td>https://a0.muscache.com/im/pictures/6d7cbbf7-c...</td>\n",
       "      <td>11201</td>\n",
       "      <td>1.0</td>\n",
       "      <td>1.0</td>\n",
       "    </tr>\n",
       "    <tr>\n",
       "      <th>1</th>\n",
       "      <td>6304928</td>\n",
       "      <td>5.129899</td>\n",
       "      <td>Apartment</td>\n",
       "      <td>Entire home/apt</td>\n",
       "      <td>{\"Wireless Internet\",\"Air conditioning\",Kitche...</td>\n",
       "      <td>7</td>\n",
       "      <td>1.0</td>\n",
       "      <td>Real Bed</td>\n",
       "      <td>strict</td>\n",
       "      <td>True</td>\n",
       "      <td>...</td>\n",
       "      <td>40.766115</td>\n",
       "      <td>-73.989040</td>\n",
       "      <td>Superb 3BR Apt Located Near Times Square</td>\n",
       "      <td>Hell's Kitchen</td>\n",
       "      <td>6</td>\n",
       "      <td>93.0</td>\n",
       "      <td>https://a0.muscache.com/im/pictures/348a55fe-4...</td>\n",
       "      <td>10019</td>\n",
       "      <td>3.0</td>\n",
       "      <td>3.0</td>\n",
       "    </tr>\n",
       "    <tr>\n",
       "      <th>2</th>\n",
       "      <td>7919400</td>\n",
       "      <td>4.976734</td>\n",
       "      <td>Apartment</td>\n",
       "      <td>Entire home/apt</td>\n",
       "      <td>{TV,\"Cable TV\",\"Wireless Internet\",\"Air condit...</td>\n",
       "      <td>5</td>\n",
       "      <td>1.0</td>\n",
       "      <td>Real Bed</td>\n",
       "      <td>moderate</td>\n",
       "      <td>True</td>\n",
       "      <td>...</td>\n",
       "      <td>40.808110</td>\n",
       "      <td>-73.943756</td>\n",
       "      <td>The Garden Oasis</td>\n",
       "      <td>Harlem</td>\n",
       "      <td>10</td>\n",
       "      <td>92.0</td>\n",
       "      <td>https://a0.muscache.com/im/pictures/6fae5362-9...</td>\n",
       "      <td>10027</td>\n",
       "      <td>1.0</td>\n",
       "      <td>3.0</td>\n",
       "    </tr>\n",
       "    <tr>\n",
       "      <th>3</th>\n",
       "      <td>13418779</td>\n",
       "      <td>6.620073</td>\n",
       "      <td>House</td>\n",
       "      <td>Entire home/apt</td>\n",
       "      <td>{TV,\"Cable TV\",Internet,\"Wireless Internet\",Ki...</td>\n",
       "      <td>4</td>\n",
       "      <td>1.0</td>\n",
       "      <td>Real Bed</td>\n",
       "      <td>flexible</td>\n",
       "      <td>True</td>\n",
       "      <td>...</td>\n",
       "      <td>37.772004</td>\n",
       "      <td>-122.431619</td>\n",
       "      <td>Beautiful Flat in the Heart of SF!</td>\n",
       "      <td>Lower Haight</td>\n",
       "      <td>0</td>\n",
       "      <td>NaN</td>\n",
       "      <td>https://a0.muscache.com/im/pictures/72208dad-9...</td>\n",
       "      <td>94117</td>\n",
       "      <td>2.0</td>\n",
       "      <td>2.0</td>\n",
       "    </tr>\n",
       "    <tr>\n",
       "      <th>4</th>\n",
       "      <td>3808709</td>\n",
       "      <td>4.744932</td>\n",
       "      <td>Apartment</td>\n",
       "      <td>Entire home/apt</td>\n",
       "      <td>{TV,Internet,\"Wireless Internet\",\"Air conditio...</td>\n",
       "      <td>2</td>\n",
       "      <td>1.0</td>\n",
       "      <td>Real Bed</td>\n",
       "      <td>moderate</td>\n",
       "      <td>True</td>\n",
       "      <td>...</td>\n",
       "      <td>38.925627</td>\n",
       "      <td>-77.034596</td>\n",
       "      <td>Great studio in midtown DC</td>\n",
       "      <td>Columbia Heights</td>\n",
       "      <td>4</td>\n",
       "      <td>40.0</td>\n",
       "      <td>NaN</td>\n",
       "      <td>20009</td>\n",
       "      <td>0.0</td>\n",
       "      <td>1.0</td>\n",
       "    </tr>\n",
       "  </tbody>\n",
       "</table>\n",
       "<p>5 rows × 29 columns</p>\n",
       "</div>"
      ],
      "text/plain": [
       "         id  log_price property_type        room_type  \\\n",
       "0   6901257   5.010635     Apartment  Entire home/apt   \n",
       "1   6304928   5.129899     Apartment  Entire home/apt   \n",
       "2   7919400   4.976734     Apartment  Entire home/apt   \n",
       "3  13418779   6.620073         House  Entire home/apt   \n",
       "4   3808709   4.744932     Apartment  Entire home/apt   \n",
       "\n",
       "                                           amenities  accommodates  bathrooms  \\\n",
       "0  {\"Wireless Internet\",\"Air conditioning\",Kitche...             3        1.0   \n",
       "1  {\"Wireless Internet\",\"Air conditioning\",Kitche...             7        1.0   \n",
       "2  {TV,\"Cable TV\",\"Wireless Internet\",\"Air condit...             5        1.0   \n",
       "3  {TV,\"Cable TV\",Internet,\"Wireless Internet\",Ki...             4        1.0   \n",
       "4  {TV,Internet,\"Wireless Internet\",\"Air conditio...             2        1.0   \n",
       "\n",
       "   bed_type cancellation_policy  cleaning_fee  ...   latitude   longitude  \\\n",
       "0  Real Bed              strict          True  ...  40.696524  -73.991617   \n",
       "1  Real Bed              strict          True  ...  40.766115  -73.989040   \n",
       "2  Real Bed            moderate          True  ...  40.808110  -73.943756   \n",
       "3  Real Bed            flexible          True  ...  37.772004 -122.431619   \n",
       "4  Real Bed            moderate          True  ...  38.925627  -77.034596   \n",
       "\n",
       "                                       name     neighbourhood  \\\n",
       "0            Beautiful brownstone 1-bedroom  Brooklyn Heights   \n",
       "1  Superb 3BR Apt Located Near Times Square    Hell's Kitchen   \n",
       "2                          The Garden Oasis            Harlem   \n",
       "3        Beautiful Flat in the Heart of SF!      Lower Haight   \n",
       "4                Great studio in midtown DC  Columbia Heights   \n",
       "\n",
       "  number_of_reviews review_scores_rating  \\\n",
       "0                 2                100.0   \n",
       "1                 6                 93.0   \n",
       "2                10                 92.0   \n",
       "3                 0                  NaN   \n",
       "4                 4                 40.0   \n",
       "\n",
       "                                       thumbnail_url zipcode bedrooms  beds  \n",
       "0  https://a0.muscache.com/im/pictures/6d7cbbf7-c...   11201      1.0   1.0  \n",
       "1  https://a0.muscache.com/im/pictures/348a55fe-4...   10019      3.0   3.0  \n",
       "2  https://a0.muscache.com/im/pictures/6fae5362-9...   10027      1.0   3.0  \n",
       "3  https://a0.muscache.com/im/pictures/72208dad-9...   94117      2.0   2.0  \n",
       "4                                                NaN   20009      0.0   1.0  \n",
       "\n",
       "[5 rows x 29 columns]"
      ]
     },
     "execution_count": 209,
     "metadata": {},
     "output_type": "execute_result"
    }
   ],
   "source": [
    "df.head()"
   ]
  },
  {
   "cell_type": "markdown",
   "id": "48cdbc38-d384-48b1-a957-01aa01006916",
   "metadata": {},
   "source": [
    "<h1> Data Exploration and Preprocessing</h1>"
   ]
  },
  {
   "cell_type": "code",
   "execution_count": 210,
   "id": "43e9491f-0d17-4916-b0b9-007ec2879dcb",
   "metadata": {},
   "outputs": [
    {
     "data": {
      "text/html": [
       "<div>\n",
       "<style scoped>\n",
       "    .dataframe tbody tr th:only-of-type {\n",
       "        vertical-align: middle;\n",
       "    }\n",
       "\n",
       "    .dataframe tbody tr th {\n",
       "        vertical-align: top;\n",
       "    }\n",
       "\n",
       "    .dataframe thead th {\n",
       "        text-align: right;\n",
       "    }\n",
       "</style>\n",
       "<table border=\"1\" class=\"dataframe\">\n",
       "  <thead>\n",
       "    <tr style=\"text-align: right;\">\n",
       "      <th></th>\n",
       "      <th>id</th>\n",
       "      <th>log_price</th>\n",
       "      <th>accommodates</th>\n",
       "      <th>bathrooms</th>\n",
       "      <th>latitude</th>\n",
       "      <th>longitude</th>\n",
       "      <th>number_of_reviews</th>\n",
       "      <th>review_scores_rating</th>\n",
       "      <th>bedrooms</th>\n",
       "      <th>beds</th>\n",
       "    </tr>\n",
       "  </thead>\n",
       "  <tbody>\n",
       "    <tr>\n",
       "      <th>count</th>\n",
       "      <td>7.411100e+04</td>\n",
       "      <td>74111.000000</td>\n",
       "      <td>74111.000000</td>\n",
       "      <td>73911.000000</td>\n",
       "      <td>74111.000000</td>\n",
       "      <td>74111.000000</td>\n",
       "      <td>74111.000000</td>\n",
       "      <td>57389.000000</td>\n",
       "      <td>74020.000000</td>\n",
       "      <td>73980.000000</td>\n",
       "    </tr>\n",
       "    <tr>\n",
       "      <th>mean</th>\n",
       "      <td>1.126662e+07</td>\n",
       "      <td>4.782069</td>\n",
       "      <td>3.155146</td>\n",
       "      <td>1.235263</td>\n",
       "      <td>38.445958</td>\n",
       "      <td>-92.397525</td>\n",
       "      <td>20.900568</td>\n",
       "      <td>94.067365</td>\n",
       "      <td>1.265793</td>\n",
       "      <td>1.710868</td>\n",
       "    </tr>\n",
       "    <tr>\n",
       "      <th>std</th>\n",
       "      <td>6.081735e+06</td>\n",
       "      <td>0.717394</td>\n",
       "      <td>2.153589</td>\n",
       "      <td>0.582044</td>\n",
       "      <td>3.080167</td>\n",
       "      <td>21.705322</td>\n",
       "      <td>37.828641</td>\n",
       "      <td>7.836556</td>\n",
       "      <td>0.852143</td>\n",
       "      <td>1.254142</td>\n",
       "    </tr>\n",
       "    <tr>\n",
       "      <th>min</th>\n",
       "      <td>3.440000e+02</td>\n",
       "      <td>0.000000</td>\n",
       "      <td>1.000000</td>\n",
       "      <td>0.000000</td>\n",
       "      <td>33.338905</td>\n",
       "      <td>-122.511500</td>\n",
       "      <td>0.000000</td>\n",
       "      <td>20.000000</td>\n",
       "      <td>0.000000</td>\n",
       "      <td>0.000000</td>\n",
       "    </tr>\n",
       "    <tr>\n",
       "      <th>25%</th>\n",
       "      <td>6.261964e+06</td>\n",
       "      <td>4.317488</td>\n",
       "      <td>2.000000</td>\n",
       "      <td>1.000000</td>\n",
       "      <td>34.127908</td>\n",
       "      <td>-118.342374</td>\n",
       "      <td>1.000000</td>\n",
       "      <td>92.000000</td>\n",
       "      <td>1.000000</td>\n",
       "      <td>1.000000</td>\n",
       "    </tr>\n",
       "    <tr>\n",
       "      <th>50%</th>\n",
       "      <td>1.225415e+07</td>\n",
       "      <td>4.709530</td>\n",
       "      <td>2.000000</td>\n",
       "      <td>1.000000</td>\n",
       "      <td>40.662138</td>\n",
       "      <td>-76.996965</td>\n",
       "      <td>6.000000</td>\n",
       "      <td>96.000000</td>\n",
       "      <td>1.000000</td>\n",
       "      <td>1.000000</td>\n",
       "    </tr>\n",
       "    <tr>\n",
       "      <th>75%</th>\n",
       "      <td>1.640226e+07</td>\n",
       "      <td>5.220356</td>\n",
       "      <td>4.000000</td>\n",
       "      <td>1.000000</td>\n",
       "      <td>40.746096</td>\n",
       "      <td>-73.954660</td>\n",
       "      <td>23.000000</td>\n",
       "      <td>100.000000</td>\n",
       "      <td>1.000000</td>\n",
       "      <td>2.000000</td>\n",
       "    </tr>\n",
       "    <tr>\n",
       "      <th>max</th>\n",
       "      <td>2.123090e+07</td>\n",
       "      <td>7.600402</td>\n",
       "      <td>16.000000</td>\n",
       "      <td>8.000000</td>\n",
       "      <td>42.390437</td>\n",
       "      <td>-70.985047</td>\n",
       "      <td>605.000000</td>\n",
       "      <td>100.000000</td>\n",
       "      <td>10.000000</td>\n",
       "      <td>18.000000</td>\n",
       "    </tr>\n",
       "  </tbody>\n",
       "</table>\n",
       "</div>"
      ],
      "text/plain": [
       "                 id     log_price  accommodates     bathrooms      latitude  \\\n",
       "count  7.411100e+04  74111.000000  74111.000000  73911.000000  74111.000000   \n",
       "mean   1.126662e+07      4.782069      3.155146      1.235263     38.445958   \n",
       "std    6.081735e+06      0.717394      2.153589      0.582044      3.080167   \n",
       "min    3.440000e+02      0.000000      1.000000      0.000000     33.338905   \n",
       "25%    6.261964e+06      4.317488      2.000000      1.000000     34.127908   \n",
       "50%    1.225415e+07      4.709530      2.000000      1.000000     40.662138   \n",
       "75%    1.640226e+07      5.220356      4.000000      1.000000     40.746096   \n",
       "max    2.123090e+07      7.600402     16.000000      8.000000     42.390437   \n",
       "\n",
       "          longitude  number_of_reviews  review_scores_rating      bedrooms  \\\n",
       "count  74111.000000       74111.000000          57389.000000  74020.000000   \n",
       "mean     -92.397525          20.900568             94.067365      1.265793   \n",
       "std       21.705322          37.828641              7.836556      0.852143   \n",
       "min     -122.511500           0.000000             20.000000      0.000000   \n",
       "25%     -118.342374           1.000000             92.000000      1.000000   \n",
       "50%      -76.996965           6.000000             96.000000      1.000000   \n",
       "75%      -73.954660          23.000000            100.000000      1.000000   \n",
       "max      -70.985047         605.000000            100.000000     10.000000   \n",
       "\n",
       "               beds  \n",
       "count  73980.000000  \n",
       "mean       1.710868  \n",
       "std        1.254142  \n",
       "min        0.000000  \n",
       "25%        1.000000  \n",
       "50%        1.000000  \n",
       "75%        2.000000  \n",
       "max       18.000000  "
      ]
     },
     "execution_count": 210,
     "metadata": {},
     "output_type": "execute_result"
    }
   ],
   "source": [
    "df.describe()"
   ]
  },
  {
   "cell_type": "markdown",
   "id": "e752c6aa-cc15-44e4-917c-dcad7c254e11",
   "metadata": {},
   "source": [
    "<h4>Count Of Null Value</h4>"
   ]
  },
  {
   "cell_type": "code",
   "execution_count": 211,
   "id": "1e1099fa-81ed-4d49-a124-6818c6e34db6",
   "metadata": {},
   "outputs": [
    {
     "data": {
      "text/plain": [
       "id                            0\n",
       "log_price                     0\n",
       "property_type                 0\n",
       "room_type                     0\n",
       "amenities                     0\n",
       "accommodates                  0\n",
       "bathrooms                   200\n",
       "bed_type                      0\n",
       "cancellation_policy           0\n",
       "cleaning_fee                  0\n",
       "city                          0\n",
       "description                   0\n",
       "first_review              15864\n",
       "host_has_profile_pic        188\n",
       "host_identity_verified      188\n",
       "host_response_rate        18299\n",
       "host_since                  188\n",
       "instant_bookable              0\n",
       "last_review               15827\n",
       "latitude                      0\n",
       "longitude                     0\n",
       "name                          0\n",
       "neighbourhood              6872\n",
       "number_of_reviews             0\n",
       "review_scores_rating      16722\n",
       "thumbnail_url              8216\n",
       "zipcode                     968\n",
       "bedrooms                     91\n",
       "beds                        131\n",
       "dtype: int64"
      ]
     },
     "execution_count": 211,
     "metadata": {},
     "output_type": "execute_result"
    }
   ],
   "source": [
    "df.isnull().sum()"
   ]
  },
  {
   "cell_type": "markdown",
   "id": "1c37db68-652b-4c15-896a-98f2d4f07b4c",
   "metadata": {},
   "source": [
    "<p style=\"color:blue\">We Can see hare there are null value which are oftenly two type</p>\n",
    "<p style=\"color:blue\">one is object type and we can remove this using mode which replace as most frequent in column</p>\n",
    "<p style=\"color:blue\">second one is kind of int or float which can we remove using mean function</p>"
   ]
  },
  {
   "cell_type": "markdown",
   "id": "1ebe79a6-bd88-4611-9a05-09a1c21fb38e",
   "metadata": {},
   "source": [
    "<h4>Calculation Of Outliers</h4>"
   ]
  },
  {
   "cell_type": "code",
   "execution_count": 212,
   "id": "2efa29fc-dfdf-42ba-be01-1be2fb821b49",
   "metadata": {},
   "outputs": [
    {
     "name": "stdout",
     "output_type": "stream",
     "text": [
      "Outliers in id:\n",
      "Series([], Name: id, dtype: int64) \n",
      "\n",
      "Outliers in log_price:\n",
      "3        6.620073\n",
      "24       6.956545\n",
      "52       6.620073\n",
      "62       6.907755\n",
      "148      7.150701\n",
      "           ...   \n",
      "73939    6.731018\n",
      "73953    6.829794\n",
      "73957    6.684612\n",
      "74031    6.907755\n",
      "74081    6.907755\n",
      "Name: log_price, Length: 1532, dtype: float64 \n",
      "\n",
      "Outliers in accommodates:\n",
      "19        8\n",
      "42        8\n",
      "62        9\n",
      "104       9\n",
      "109       9\n",
      "         ..\n",
      "74031     8\n",
      "74032    10\n",
      "74042     8\n",
      "74081    16\n",
      "74102    10\n",
      "Name: accommodates, Length: 3604, dtype: int64 \n",
      "\n",
      "Outliers in bathrooms:\n",
      "11       1.5\n",
      "13       1.5\n",
      "15       1.5\n",
      "17       2.0\n",
      "21       1.5\n",
      "        ... \n",
      "74078    2.0\n",
      "74088    2.5\n",
      "74092    2.0\n",
      "74102    3.0\n",
      "74107    2.0\n",
      "Name: bathrooms, Length: 15812, dtype: float64 \n",
      "\n",
      "Outliers in latitude:\n",
      "Series([], Name: latitude, dtype: float64) \n",
      "\n",
      "Outliers in longitude:\n",
      "Series([], Name: longitude, dtype: float64) \n",
      "\n",
      "Outliers in number_of_reviews:\n",
      "8        159\n",
      "10        82\n",
      "21        57\n",
      "22        73\n",
      "32       248\n",
      "        ... \n",
      "74037    158\n",
      "74057     89\n",
      "74082     60\n",
      "74098    177\n",
      "74110    205\n",
      "Name: number_of_reviews, Length: 8203, dtype: int64 \n",
      "\n",
      "Outliers in review_scores_rating:\n",
      "4        40.0\n",
      "19       72.0\n",
      "142      70.0\n",
      "159      60.0\n",
      "166      70.0\n",
      "         ... \n",
      "73991    76.0\n",
      "73999    79.0\n",
      "74019    60.0\n",
      "74053    60.0\n",
      "74096    60.0\n",
      "Name: review_scores_rating, Length: 1719, dtype: float64 \n",
      "\n",
      "Outliers in bedrooms:\n",
      "1        3.0\n",
      "3        2.0\n",
      "4        0.0\n",
      "11       2.0\n",
      "13       2.0\n",
      "        ... \n",
      "74092    2.0\n",
      "74098    0.0\n",
      "74107    2.0\n",
      "74108    2.0\n",
      "74109    0.0\n",
      "Name: bedrooms, Length: 24236, dtype: float64 \n",
      "\n",
      "Outliers in beds:\n",
      "42        7.0\n",
      "60        4.0\n",
      "62        4.0\n",
      "81        6.0\n",
      "104       4.0\n",
      "         ... \n",
      "74042     5.0\n",
      "74045     4.0\n",
      "74059     4.0\n",
      "74102    10.0\n",
      "74107     4.0\n",
      "Name: beds, Length: 5686, dtype: float64 \n",
      "\n"
     ]
    }
   ],
   "source": [
    "numerical_cols = df.select_dtypes(include=['float64', 'int64']).columns\n",
    "\n",
    "outliers = {}\n",
    "for col in numerical_cols:\n",
    "    Q1 = df[col].quantile(0.25)\n",
    "    Q3 = df[col].quantile(0.75)\n",
    "    IQR = Q3 - Q1\n",
    "    lower_bound = Q1 - 1.5 * IQR\n",
    "    upper_bound = Q3 + 1.5 * IQR\n",
    "    outliers[col] = df[(df[col] < lower_bound) | (df[col] > upper_bound)][col]\n",
    "\n",
    "# Print outliers\n",
    "for col, outlier_values in outliers.items():\n",
    "    print(f\"Outliers in {col}:\")\n",
    "    print(outlier_values, \"\\n\")\n"
   ]
  },
  {
   "cell_type": "code",
   "execution_count": 213,
   "id": "5c21086b-94c6-4ddc-b5c4-93e280a5d106",
   "metadata": {},
   "outputs": [
    {
     "data": {
      "image/png": "[encoded data removed]",
      "text/plain": [
       "<Figure size 1500x600 with 1 Axes>"
      ]
     },
     "metadata": {},
     "output_type": "display_data"
    }
   ],
   "source": [
    "import seaborn as sns\n",
    "import matplotlib.pyplot as plt\n",
    "\n",
    "plt.figure(figsize=(15, 6))\n",
    "df[numerical_cols].boxplot(rot=50)\n",
    "plt.title(\"Boxplot to Detect Outliers\")\n",
    "plt.show()"
   ]
  },
  {
   "cell_type": "code",
   "execution_count": 214,
   "id": "fdd16123-281e-4d0b-af49-a8a524459485",
   "metadata": {},
   "outputs": [
    {
     "data": {
      "text/plain": [
       "(74111, 29)"
      ]
     },
     "execution_count": 214,
     "metadata": {},
     "output_type": "execute_result"
    }
   ],
   "source": [
    "df.shape"
   ]
  },
  {
   "cell_type": "code",
   "execution_count": 215,
   "id": "5304e56d-716a-4e25-8330-769aea31c20f",
   "metadata": {},
   "outputs": [],
   "source": [
    "import seaborn as sns"
   ]
  },
  {
   "cell_type": "code",
   "execution_count": 216,
   "id": "4c9528c2-c30f-43ac-a5a0-e8cca045230d",
   "metadata": {},
   "outputs": [
    {
     "data": {
      "image/png": "[encoded data removed]",
      "text/plain": [
       "<Figure size 1000x800 with 2 Axes>"
      ]
     },
     "metadata": {},
     "output_type": "display_data"
    }
   ],
   "source": [
    "num_cols = list()\n",
    "\n",
    "for column in df.columns:\n",
    "    if df[column].dtype != object:\n",
    "       num_cols.append(column)\n",
    "        \n",
    "correlation_matrix = df[num_cols].corr()\n",
    "plt.figure(figsize=(10, 8))\n",
    "sns.heatmap(correlation_matrix, annot=True, cmap='coolwarm')\n",
    "plt.title('Correlation Matrix')\n",
    "plt.show()"
   ]
  },
  {
   "cell_type": "markdown",
   "id": "5723b65e-5c9f-4639-8786-9eb7ca6bb00f",
   "metadata": {},
   "source": [
    "<p style=\"color:blue\">Correlation matrix show the relation between data columns </p>"
   ]
  },
  {
   "cell_type": "code",
   "execution_count": 217,
   "id": "4e1f6df8-2555-4f7c-83f4-4dfea3611399",
   "metadata": {},
   "outputs": [
    {
     "data": {
      "text/html": [
       "<div>\n",
       "<style scoped>\n",
       "    .dataframe tbody tr th:only-of-type {\n",
       "        vertical-align: middle;\n",
       "    }\n",
       "\n",
       "    .dataframe tbody tr th {\n",
       "        vertical-align: top;\n",
       "    }\n",
       "\n",
       "    .dataframe thead th {\n",
       "        text-align: right;\n",
       "    }\n",
       "</style>\n",
       "<table border=\"1\" class=\"dataframe\">\n",
       "  <thead>\n",
       "    <tr style=\"text-align: right;\">\n",
       "      <th></th>\n",
       "      <th>Missing Values</th>\n",
       "      <th>Percentage</th>\n",
       "    </tr>\n",
       "  </thead>\n",
       "  <tbody>\n",
       "    <tr>\n",
       "      <th>host_response_rate</th>\n",
       "      <td>18299</td>\n",
       "      <td>24.691341</td>\n",
       "    </tr>\n",
       "    <tr>\n",
       "      <th>review_scores_rating</th>\n",
       "      <td>16722</td>\n",
       "      <td>22.563452</td>\n",
       "    </tr>\n",
       "    <tr>\n",
       "      <th>first_review</th>\n",
       "      <td>15864</td>\n",
       "      <td>21.405729</td>\n",
       "    </tr>\n",
       "    <tr>\n",
       "      <th>last_review</th>\n",
       "      <td>15827</td>\n",
       "      <td>21.355804</td>\n",
       "    </tr>\n",
       "    <tr>\n",
       "      <th>thumbnail_url</th>\n",
       "      <td>8216</td>\n",
       "      <td>11.086074</td>\n",
       "    </tr>\n",
       "    <tr>\n",
       "      <th>neighbourhood</th>\n",
       "      <td>6872</td>\n",
       "      <td>9.272578</td>\n",
       "    </tr>\n",
       "    <tr>\n",
       "      <th>zipcode</th>\n",
       "      <td>968</td>\n",
       "      <td>1.306149</td>\n",
       "    </tr>\n",
       "    <tr>\n",
       "      <th>bathrooms</th>\n",
       "      <td>200</td>\n",
       "      <td>0.269865</td>\n",
       "    </tr>\n",
       "    <tr>\n",
       "      <th>host_identity_verified</th>\n",
       "      <td>188</td>\n",
       "      <td>0.253674</td>\n",
       "    </tr>\n",
       "    <tr>\n",
       "      <th>host_since</th>\n",
       "      <td>188</td>\n",
       "      <td>0.253674</td>\n",
       "    </tr>\n",
       "    <tr>\n",
       "      <th>host_has_profile_pic</th>\n",
       "      <td>188</td>\n",
       "      <td>0.253674</td>\n",
       "    </tr>\n",
       "    <tr>\n",
       "      <th>beds</th>\n",
       "      <td>131</td>\n",
       "      <td>0.176762</td>\n",
       "    </tr>\n",
       "    <tr>\n",
       "      <th>bedrooms</th>\n",
       "      <td>91</td>\n",
       "      <td>0.122789</td>\n",
       "    </tr>\n",
       "  </tbody>\n",
       "</table>\n",
       "</div>"
      ],
      "text/plain": [
       "                        Missing Values  Percentage\n",
       "host_response_rate               18299   24.691341\n",
       "review_scores_rating             16722   22.563452\n",
       "first_review                     15864   21.405729\n",
       "last_review                      15827   21.355804\n",
       "thumbnail_url                     8216   11.086074\n",
       "neighbourhood                     6872    9.272578\n",
       "zipcode                            968    1.306149\n",
       "bathrooms                          200    0.269865\n",
       "host_identity_verified             188    0.253674\n",
       "host_since                         188    0.253674\n",
       "host_has_profile_pic               188    0.253674\n",
       "beds                               131    0.176762\n",
       "bedrooms                            91    0.122789"
      ]
     },
     "execution_count": 217,
     "metadata": {},
     "output_type": "execute_result"
    }
   ],
   "source": [
    "missing_values = df.isnull().sum().sort_values(ascending=False)\n",
    "missing_percentage = (missing_values / len(df)) * 100\n",
    "\n",
    "missing_summary = pd.DataFrame({'Missing Values': missing_values, 'Percentage': missing_percentage})\n",
    "missing_summary = missing_summary[missing_summary['Missing Values'] > 0]  \n",
    "\n",
    "missing_summary"
   ]
  },
  {
   "cell_type": "code",
   "execution_count": 218,
   "id": "ebecd1a2-7ec7-4eee-bfec-0e5d3bd0a942",
   "metadata": {},
   "outputs": [],
   "source": [
    "df.drop(columns=['thumbnail_url', 'name', 'description', 'first_review', 'last_review'], inplace=True)"
   ]
  },
  {
   "cell_type": "code",
   "execution_count": 219,
   "id": "f81ae2a1-5032-4fb9-acad-98130d55434a",
   "metadata": {},
   "outputs": [],
   "source": [
    "df['host_response_rate'] = df['host_response_rate'].str.rstrip('%').astype(float) "
   ]
  },
  {
   "cell_type": "code",
   "execution_count": 220,
   "id": "373b37c7-344e-4dbf-8289-9635fd41b4c5",
   "metadata": {},
   "outputs": [],
   "source": [
    "df['host_response_rate'].fillna(df['host_response_rate'].median(), inplace=True)"
   ]
  },
  {
   "cell_type": "code",
   "execution_count": 221,
   "id": "9400561c-5758-4fec-a8ee-5abf4eac0ba4",
   "metadata": {},
   "outputs": [],
   "source": [
    "df['review_scores_rating'].fillna(df['review_scores_rating'].median(), inplace=True)"
   ]
  },
  {
   "cell_type": "code",
   "execution_count": 222,
   "id": "3e8d235d-204a-4667-ae2f-6083355317f9",
   "metadata": {},
   "outputs": [],
   "source": [
    "df['bathrooms'].fillna(df['bathrooms'].median(), inplace=True)"
   ]
  },
  {
   "cell_type": "code",
   "execution_count": 223,
   "id": "cbab2fe9-8ac2-4814-a3c4-6fde527595be",
   "metadata": {},
   "outputs": [],
   "source": [
    "df['bedrooms'].fillna(df['bedrooms'].median(), inplace=True)"
   ]
  },
  {
   "cell_type": "code",
   "execution_count": 224,
   "id": "fdd5fbe4-3d44-43c5-bfdd-51eb5121c09d",
   "metadata": {},
   "outputs": [],
   "source": [
    "df['beds'].fillna(df['beds'].median(), inplace=True)"
   ]
  },
  {
   "cell_type": "code",
   "execution_count": 225,
   "id": "5d2640b2-4c15-4413-a01c-acf9d7591b97",
   "metadata": {},
   "outputs": [],
   "source": [
    "df['zipcode'].fillna(df['zipcode'].mode()[0], inplace=True) "
   ]
  },
  {
   "cell_type": "code",
   "execution_count": 226,
   "id": "50460d01-8902-48b2-a44e-9957fb80ad30",
   "metadata": {},
   "outputs": [
    {
     "data": {
      "text/plain": [
       "id                           0\n",
       "log_price                    0\n",
       "property_type                0\n",
       "room_type                    0\n",
       "amenities                    0\n",
       "accommodates                 0\n",
       "bathrooms                    0\n",
       "bed_type                     0\n",
       "cancellation_policy          0\n",
       "cleaning_fee                 0\n",
       "city                         0\n",
       "host_has_profile_pic       188\n",
       "host_identity_verified     188\n",
       "host_response_rate           0\n",
       "host_since                 188\n",
       "instant_bookable             0\n",
       "latitude                     0\n",
       "longitude                    0\n",
       "neighbourhood             6872\n",
       "number_of_reviews            0\n",
       "review_scores_rating         0\n",
       "zipcode                      0\n",
       "bedrooms                     0\n",
       "beds                         0\n",
       "dtype: int64"
      ]
     },
     "execution_count": 226,
     "metadata": {},
     "output_type": "execute_result"
    }
   ],
   "source": [
    "df.isnull().sum()"
   ]
  },
  {
   "cell_type": "code",
   "execution_count": 227,
   "id": "ce4528e7-4fc4-41d2-92ef-5b317bb41f6f",
   "metadata": {},
   "outputs": [],
   "source": [
    "categorical_cols = ['property_type', 'room_type', 'bed_type', 'cancellation_policy']"
   ]
  },
  {
   "cell_type": "code",
   "execution_count": 228,
   "id": "48180548-63f8-4f82-9b67-857f46eccdc0",
   "metadata": {},
   "outputs": [],
   "source": [
    "# Applying one-hot encoding\n",
    "df_encoded = pd.get_dummies(df, columns=categorical_cols, drop_first=True)"
   ]
  },
  {
   "cell_type": "code",
   "execution_count": 229,
   "id": "92d65747-c24c-45e5-b88f-a32aa204d84c",
   "metadata": {},
   "outputs": [
    {
     "name": "stdout",
     "output_type": "stream",
     "text": [
      "<class 'pandas.core.frame.DataFrame'>\n",
      "RangeIndex: 74111 entries, 0 to 74110\n",
      "Data columns (total 64 columns):\n",
      " #   Column                               Non-Null Count  Dtype  \n",
      "---  ------                               --------------  -----  \n",
      " 0   id                                   74111 non-null  int64  \n",
      " 1   log_price                            74111 non-null  float64\n",
      " 2   amenities                            74111 non-null  object \n",
      " 3   accommodates                         74111 non-null  int64  \n",
      " 4   bathrooms                            74111 non-null  float64\n",
      " 5   cleaning_fee                         74111 non-null  bool   \n",
      " 6   city                                 74111 non-null  object \n",
      " 7   host_has_profile_pic                 73923 non-null  object \n",
      " 8   host_identity_verified               73923 non-null  object \n",
      " 9   host_response_rate                   74111 non-null  float64\n",
      " 10  host_since                           73923 non-null  object \n",
      " 11  instant_bookable                     74111 non-null  object \n",
      " 12  latitude                             74111 non-null  float64\n",
      " 13  longitude                            74111 non-null  float64\n",
      " 14  neighbourhood                        67239 non-null  object \n",
      " 15  number_of_reviews                    74111 non-null  int64  \n",
      " 16  review_scores_rating                 74111 non-null  float64\n",
      " 17  zipcode                              74111 non-null  object \n",
      " 18  bedrooms                             74111 non-null  float64\n",
      " 19  beds                                 74111 non-null  float64\n",
      " 20  property_type_Bed & Breakfast        74111 non-null  bool   \n",
      " 21  property_type_Boat                   74111 non-null  bool   \n",
      " 22  property_type_Boutique hotel         74111 non-null  bool   \n",
      " 23  property_type_Bungalow               74111 non-null  bool   \n",
      " 24  property_type_Cabin                  74111 non-null  bool   \n",
      " 25  property_type_Camper/RV              74111 non-null  bool   \n",
      " 26  property_type_Casa particular        74111 non-null  bool   \n",
      " 27  property_type_Castle                 74111 non-null  bool   \n",
      " 28  property_type_Cave                   74111 non-null  bool   \n",
      " 29  property_type_Chalet                 74111 non-null  bool   \n",
      " 30  property_type_Condominium            74111 non-null  bool   \n",
      " 31  property_type_Dorm                   74111 non-null  bool   \n",
      " 32  property_type_Earth House            74111 non-null  bool   \n",
      " 33  property_type_Guest suite            74111 non-null  bool   \n",
      " 34  property_type_Guesthouse             74111 non-null  bool   \n",
      " 35  property_type_Hostel                 74111 non-null  bool   \n",
      " 36  property_type_House                  74111 non-null  bool   \n",
      " 37  property_type_Hut                    74111 non-null  bool   \n",
      " 38  property_type_In-law                 74111 non-null  bool   \n",
      " 39  property_type_Island                 74111 non-null  bool   \n",
      " 40  property_type_Lighthouse             74111 non-null  bool   \n",
      " 41  property_type_Loft                   74111 non-null  bool   \n",
      " 42  property_type_Other                  74111 non-null  bool   \n",
      " 43  property_type_Parking Space          74111 non-null  bool   \n",
      " 44  property_type_Serviced apartment     74111 non-null  bool   \n",
      " 45  property_type_Tent                   74111 non-null  bool   \n",
      " 46  property_type_Timeshare              74111 non-null  bool   \n",
      " 47  property_type_Tipi                   74111 non-null  bool   \n",
      " 48  property_type_Townhouse              74111 non-null  bool   \n",
      " 49  property_type_Train                  74111 non-null  bool   \n",
      " 50  property_type_Treehouse              74111 non-null  bool   \n",
      " 51  property_type_Vacation home          74111 non-null  bool   \n",
      " 52  property_type_Villa                  74111 non-null  bool   \n",
      " 53  property_type_Yurt                   74111 non-null  bool   \n",
      " 54  room_type_Private room               74111 non-null  bool   \n",
      " 55  room_type_Shared room                74111 non-null  bool   \n",
      " 56  bed_type_Couch                       74111 non-null  bool   \n",
      " 57  bed_type_Futon                       74111 non-null  bool   \n",
      " 58  bed_type_Pull-out Sofa               74111 non-null  bool   \n",
      " 59  bed_type_Real Bed                    74111 non-null  bool   \n",
      " 60  cancellation_policy_moderate         74111 non-null  bool   \n",
      " 61  cancellation_policy_strict           74111 non-null  bool   \n",
      " 62  cancellation_policy_super_strict_30  74111 non-null  bool   \n",
      " 63  cancellation_policy_super_strict_60  74111 non-null  bool   \n",
      "dtypes: bool(45), float64(8), int64(3), object(8)\n",
      "memory usage: 13.9+ MB\n"
     ]
    },
    {
     "data": {
      "text/plain": [
       "(None,\n",
       "          id  log_price                                          amenities  \\\n",
       " 0   6901257   5.010635  {\"Wireless Internet\",\"Air conditioning\",Kitche...   \n",
       " 1   6304928   5.129899  {\"Wireless Internet\",\"Air conditioning\",Kitche...   \n",
       " 2   7919400   4.976734  {TV,\"Cable TV\",\"Wireless Internet\",\"Air condit...   \n",
       " 3  13418779   6.620073  {TV,\"Cable TV\",Internet,\"Wireless Internet\",Ki...   \n",
       " 4   3808709   4.744932  {TV,Internet,\"Wireless Internet\",\"Air conditio...   \n",
       " \n",
       "    accommodates  bathrooms  cleaning_fee city host_has_profile_pic  \\\n",
       " 0             3        1.0          True  NYC                    t   \n",
       " 1             7        1.0          True  NYC                    t   \n",
       " 2             5        1.0          True  NYC                    t   \n",
       " 3             4        1.0          True   SF                    t   \n",
       " 4             2        1.0          True   DC                    t   \n",
       " \n",
       "   host_identity_verified  host_response_rate  ... room_type_Private room  \\\n",
       " 0                      t               100.0  ...                  False   \n",
       " 1                      f               100.0  ...                  False   \n",
       " 2                      t               100.0  ...                  False   \n",
       " 3                      t               100.0  ...                  False   \n",
       " 4                      t               100.0  ...                  False   \n",
       " \n",
       "   room_type_Shared room  bed_type_Couch  bed_type_Futon  \\\n",
       " 0                 False           False           False   \n",
       " 1                 False           False           False   \n",
       " 2                 False           False           False   \n",
       " 3                 False           False           False   \n",
       " 4                 False           False           False   \n",
       " \n",
       "   bed_type_Pull-out Sofa  bed_type_Real Bed  cancellation_policy_moderate  \\\n",
       " 0                  False               True                         False   \n",
       " 1                  False               True                         False   \n",
       " 2                  False               True                          True   \n",
       " 3                  False               True                         False   \n",
       " 4                  False               True                          True   \n",
       " \n",
       "   cancellation_policy_strict  cancellation_policy_super_strict_30  \\\n",
       " 0                       True                                False   \n",
       " 1                       True                                False   \n",
       " 2                      False                                False   \n",
       " 3                      False                                False   \n",
       " 4                      False                                False   \n",
       " \n",
       "    cancellation_policy_super_strict_60  \n",
       " 0                                False  \n",
       " 1                                False  \n",
       " 2                                False  \n",
       " 3                                False  \n",
       " 4                                False  \n",
       " \n",
       " [5 rows x 64 columns])"
      ]
     },
     "execution_count": 229,
     "metadata": {},
     "output_type": "execute_result"
    }
   ],
   "source": [
    "# Checking the cleaned dataset\n",
    "df_encoded.info(), df_encoded.head()"
   ]
  },
  {
   "cell_type": "markdown",
   "id": "8fe4778d-0371-4993-890d-9b6c74e5ed77",
   "metadata": {},
   "source": [
    "<h1>Model Development</h1>"
   ]
  },
  {
   "cell_type": "code",
   "execution_count": 230,
   "id": "3b24d8f6-bd4a-4e92-9424-e7a73593864c",
   "metadata": {},
   "outputs": [],
   "source": [
    "from sklearn.model_selection import train_test_split\n",
    "from sklearn.linear_model import LinearRegression\n",
    "from sklearn.metrics import mean_absolute_error, mean_squared_error, r2_score\n",
    "import numpy as np"
   ]
  },
  {
   "cell_type": "code",
   "execution_count": 231,
   "id": "f0e6db6e-e41c-4f62-a6f3-2ffc04715d7e",
   "metadata": {},
   "outputs": [],
   "source": [
    "X = df_encoded.drop(columns=['id', 'log_price', 'amenities', 'city', 'host_has_profile_pic', \n",
    "                             'host_identity_verified', 'host_since', 'instant_bookable', 'neighbourhood', 'zipcode'])\n",
    "y = df_encoded['log_price']"
   ]
  },
  {
   "cell_type": "code",
   "execution_count": 232,
   "id": "741138d6-2941-4581-a475-9f844d8b7bcf",
   "metadata": {},
   "outputs": [],
   "source": [
    "X_train, X_test, y_train, y_test = train_test_split(X, y, test_size=0.2, random_state=42)"
   ]
  },
  {
   "cell_type": "code",
   "execution_count": 233,
   "id": "f07a7d23-d85e-4c1f-a89d-051320085d21",
   "metadata": {},
   "outputs": [
    {
     "data": {
      "text/html": [
       "<style>#sk-container-id-4 {color: black;background-color: white;}#sk-container-id-4 pre{padding: 0;}#sk-container-id-4 div.sk-toggleable {background-color: white;}#sk-container-id-4 label.sk-toggleable__label {cursor: pointer;display: block;width: 100%;margin-bottom: 0;padding: 0.3em;box-sizing: border-box;text-align: center;}#sk-container-id-4 label.sk-toggleable__label-arrow:before {content: \"▸\";float: left;margin-right: 0.25em;color: #696969;}#sk-container-id-4 label.sk-toggleable__label-arrow:hover:before {color: black;}#sk-container-id-4 div.sk-estimator:hover label.sk-toggleable__label-arrow:before {color: black;}#sk-container-id-4 div.sk-toggleable__content {max-height: 0;max-width: 0;overflow: hidden;text-align: left;background-color: #f0f8ff;}#sk-container-id-4 div.sk-toggleable__content pre {margin: 0.2em;color: black;border-radius: 0.25em;background-color: #f0f8ff;}#sk-container-id-4 input.sk-toggleable__control:checked~div.sk-toggleable__content {max-height: 200px;max-width: 100%;overflow: auto;}#sk-container-id-4 input.sk-toggleable__control:checked~label.sk-toggleable__label-arrow:before {content: \"▾\";}#sk-container-id-4 div.sk-estimator input.sk-toggleable__control:checked~label.sk-toggleable__label {background-color: #d4ebff;}#sk-container-id-4 div.sk-label input.sk-toggleable__control:checked~label.sk-toggleable__label {background-color: #d4ebff;}#sk-container-id-4 input.sk-hidden--visually {border: 0;clip: rect(1px 1px 1px 1px);clip: rect(1px, 1px, 1px, 1px);height: 1px;margin: -1px;overflow: hidden;padding: 0;position: absolute;width: 1px;}#sk-container-id-4 div.sk-estimator {font-family: monospace;background-color: #f0f8ff;border: 1px dotted black;border-radius: 0.25em;box-sizing: border-box;margin-bottom: 0.5em;}#sk-container-id-4 div.sk-estimator:hover {background-color: #d4ebff;}#sk-container-id-4 div.sk-parallel-item::after {content: \"\";width: 100%;border-bottom: 1px solid gray;flex-grow: 1;}#sk-container-id-4 div.sk-label:hover label.sk-toggleable__label {background-color: #d4ebff;}#sk-container-id-4 div.sk-serial::before {content: \"\";position: absolute;border-left: 1px solid gray;box-sizing: border-box;top: 0;bottom: 0;left: 50%;z-index: 0;}#sk-container-id-4 div.sk-serial {display: flex;flex-direction: column;align-items: center;background-color: white;padding-right: 0.2em;padding-left: 0.2em;position: relative;}#sk-container-id-4 div.sk-item {position: relative;z-index: 1;}#sk-container-id-4 div.sk-parallel {display: flex;align-items: stretch;justify-content: center;background-color: white;position: relative;}#sk-container-id-4 div.sk-item::before, #sk-container-id-4 div.sk-parallel-item::before {content: \"\";position: absolute;border-left: 1px solid gray;box-sizing: border-box;top: 0;bottom: 0;left: 50%;z-index: -1;}#sk-container-id-4 div.sk-parallel-item {display: flex;flex-direction: column;z-index: 1;position: relative;background-color: white;}#sk-container-id-4 div.sk-parallel-item:first-child::after {align-self: flex-end;width: 50%;}#sk-container-id-4 div.sk-parallel-item:last-child::after {align-self: flex-start;width: 50%;}#sk-container-id-4 div.sk-parallel-item:only-child::after {width: 0;}#sk-container-id-4 div.sk-dashed-wrapped {border: 1px dashed gray;margin: 0 0.4em 0.5em 0.4em;box-sizing: border-box;padding-bottom: 0.4em;background-color: white;}#sk-container-id-4 div.sk-label label {font-family: monospace;font-weight: bold;display: inline-block;line-height: 1.2em;}#sk-container-id-4 div.sk-label-container {text-align: center;}#sk-container-id-4 div.sk-container {/* jupyter's `normalize.less` sets `[hidden] { display: none; }` but bootstrap.min.css set `[hidden] { display: none !important; }` so we also need the `!important` here to be able to override the default hidden behavior on the sphinx rendered scikit-learn.org. See: https://github.com/scikit-learn/scikit-learn/issues/21755 */display: inline-block !important;position: relative;}#sk-container-id-4 div.sk-text-repr-fallback {display: none;}</style><div id=\"sk-container-id-4\" class=\"sk-top-container\"><div class=\"sk-text-repr-fallback\"><pre>LinearRegression()</pre><b>In a Jupyter environment, please rerun this cell to show the HTML representation or trust the notebook. <br />On GitHub, the HTML representation is unable to render, please try loading this page with nbviewer.org.</b></div><div class=\"sk-container\" hidden><div class=\"sk-item\"><div class=\"sk-estimator sk-toggleable\"><input class=\"sk-toggleable__control sk-hidden--visually\" id=\"sk-estimator-id-4\" type=\"checkbox\" checked><label for=\"sk-estimator-id-4\" class=\"sk-toggleable__label sk-toggleable__label-arrow\">LinearRegression</label><div class=\"sk-toggleable__content\"><pre>LinearRegression()</pre></div></div></div></div></div>"
      ],
      "text/plain": [
       "LinearRegression()"
      ]
     },
     "execution_count": 233,
     "metadata": {},
     "output_type": "execute_result"
    }
   ],
   "source": [
    "model = LinearRegression()\n",
    "model.fit(X_train, y_train)"
   ]
  },
  {
   "cell_type": "code",
   "execution_count": 234,
   "id": "2ca947d3-bf1a-4441-b1ae-84c1b6c76f01",
   "metadata": {},
   "outputs": [],
   "source": [
    "y_pred = model.predict(X_test)"
   ]
  },
  {
   "cell_type": "markdown",
   "id": "9e140fa3-989f-4080-97ad-c1ab436cb29b",
   "metadata": {},
   "source": [
    "<h1>Model Evaluation</h1>"
   ]
  },
  {
   "cell_type": "code",
   "execution_count": 235,
   "id": "2d0432b4-8573-4cf8-b17f-c95f218cdda2",
   "metadata": {},
   "outputs": [
    {
     "data": {
      "text/plain": [
       "0.4888764174109062"
      ]
     },
     "execution_count": 235,
     "metadata": {},
     "output_type": "execute_result"
    }
   ],
   "source": [
    "rmse = np.sqrt(mean_squared_error(y_test, y_pred))\n",
    "rmse"
   ]
  },
  {
   "cell_type": "code",
   "execution_count": 236,
   "id": "cd3753df-dcff-4b4c-af07-7705cc84e817",
   "metadata": {},
   "outputs": [
    {
     "data": {
      "text/plain": [
       "0.36908012568334025"
      ]
     },
     "execution_count": 236,
     "metadata": {},
     "output_type": "execute_result"
    }
   ],
   "source": [
    "mae = mean_absolute_error(y_test, y_pred)\n",
    "mae"
   ]
  },
  {
   "cell_type": "code",
   "execution_count": 237,
   "id": "a12a1a0f-2700-489a-9971-3c6de11c4979",
   "metadata": {},
   "outputs": [
    {
     "data": {
      "text/plain": [
       "0.5347710672827519"
      ]
     },
     "execution_count": 237,
     "metadata": {},
     "output_type": "execute_result"
    }
   ],
   "source": [
    "r2 = r2_score(y_test, y_pred)\n",
    "r2"
   ]
  },
  {
   "cell_type": "markdown",
   "id": "485b2f69-f7d6-41be-a1f9-7a8ecdb44a03",
   "metadata": {},
   "source": [
    "<h3>Lasso Regulization increase the accuracy</h3>"
   ]
  },
  {
   "cell_type": "code",
   "execution_count": 245,
   "id": "7a1c8137-e354-4705-9ee5-346bd3ffb906",
   "metadata": {},
   "outputs": [],
   "source": [
    "from sklearn.model_selection import train_test_split\n",
    "from sklearn.preprocessing import StandardScaler\n",
    "from sklearn.linear_model import Lasso\n",
    "from sklearn.metrics import mean_squared_error"
   ]
  },
  {
   "cell_type": "code",
   "execution_count": 246,
   "id": "7a1289ed-0b03-4b7c-8116-96f89315f1aa",
   "metadata": {},
   "outputs": [
    {
     "name": "stdout",
     "output_type": "stream",
     "text": [
      "Mean Squared Error: 0.5137845181767656\n"
     ]
    }
   ],
   "source": [
    "scaler = StandardScaler()\n",
    "X_train_scaled = scaler.fit_transform(X_train)\n",
    "X_test_scaled = scaler.transform(X_test)\n",
    "\n",
    "# Lasso Regression model\n",
    "lasso = Lasso(alpha=1.0)  \n",
    "lasso.fit(X_train_scaled, y_train)\n",
    "\n",
    "# Predictions\n",
    "y_pred = lasso.predict(X_test_scaled)\n",
    "\n",
    "# Model evaluation\n",
    "mse = mean_squared_error(y_test, y_pred)\n",
    "print(f'Mean Squared Error: {mse}')\n"
   ]
  },
  {
   "cell_type": "code",
   "execution_count": 247,
   "id": "4818b45b-cd76-4c8d-a3c0-153ada248514",
   "metadata": {},
   "outputs": [
    {
     "data": {
      "text/plain": [
       "0.7167876381305454"
      ]
     },
     "execution_count": 247,
     "metadata": {},
     "output_type": "execute_result"
    }
   ],
   "source": [
    "rmse = np.sqrt(mean_squared_error(y_test, y_pred))\n",
    "rmse"
   ]
  },
  {
   "cell_type": "code",
   "execution_count": 248,
   "id": "873e7307-6fd0-4e24-967b-a585148fd33e",
   "metadata": {},
   "outputs": [
    {
     "data": {
      "text/plain": [
       "0.5603603025057452"
      ]
     },
     "execution_count": 248,
     "metadata": {},
     "output_type": "execute_result"
    }
   ],
   "source": [
    "mae = mean_absolute_error(y_test, y_pred)\n",
    "mae"
   ]
  },
  {
   "cell_type": "markdown",
   "id": "f8c8be1c-db0d-4b1f-87f1-62dc785917be",
   "metadata": {},
   "source": [
    "<h2>Video Discription</h2>"
   ]
  },
  {
   "cell_type": "markdown",
   "id": "39f0f02e-7294-4459-9798-405a46d926f0",
   "metadata": {},
   "source": [
    "<h4>For discription</h4>\n",
    "<a href=\"\">Cilick On Me </a>"
   ]
  },
  {
   "cell_type": "code",
   "execution_count": null,
   "id": "cf6b049a-bdbe-46f1-b1b6-6976518fb841",
   "metadata": {},
   "outputs": [],
   "source": []
  }
 ],
 "metadata": {
  "kernelspec": {
   "display_name": "Python 3 (ipykernel)",
   "language": "python",
   "name": "python3"
  },
  "language_info": {
   "codemirror_mode": {
    "name": "ipython",
    "version": 3
   },
   "file_extension": ".py",
   "mimetype": "text/x-python",
   "name": "python",
   "nbconvert_exporter": "python",
   "pygments_lexer": "ipython3",
   "version": "3.11.7"
  }
 },
 "nbformat": 4,
 "nbformat_minor": 5
}
