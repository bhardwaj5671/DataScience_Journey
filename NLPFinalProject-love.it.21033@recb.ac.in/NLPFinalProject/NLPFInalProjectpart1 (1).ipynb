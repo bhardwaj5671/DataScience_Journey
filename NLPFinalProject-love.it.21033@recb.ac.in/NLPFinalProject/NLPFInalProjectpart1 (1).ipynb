{
 "cells": [
  {
   "cell_type": "markdown",
   "id": "c73de061-f799-4822-bac0-a2e76c810ce5",
   "metadata": {},
   "source": [
    "<h1 style=\"color:blue\"> Part A: IMDb Movie Review Sentiment Analysis</h1>"
   ]
  },
  {
   "cell_type": "markdown",
   "id": "c86fa1db-ee4e-42c3-87e8-795dbdf78ab4",
   "metadata": {},
   "source": [
    "<h3>1. Overview</h3>\r",
    "<p style=\"color:green\">\n",
    " Sentiment analysis is a natural language processing (NLP) task that involves determining\r\n",
    " whether a given text expresses a positive or negative sentiment. In this project, we will\r\n",
    " analyze movie reviews from the IMDb dataset and predict the sentiment (positive or\r\n",
    " negative) based on the text of the reviews. By leveraging various text preprocessing\r\n",
    " techniques, feature extraction methods, and classification algorithms, this project will\r\n",
    " develop a machine learning model capable of accurately predicting the sentiment of movie\r\n",
    " reviews. The insights derived from this analysis can be useful for movie producers, critics,\r\n",
    " and platforms like IMDb to understand public opinion and tailor marketing or content\r\n",
    " strategies ac </p>gly.</h3>"
   ]
  },
  {
   "cell_type": "markdown",
   "id": "64624af5-0b8b-4738-899e-df690f8f013c",
   "metadata": {},
   "source": [
    "<h2>2. Problem Statement</h2> \r\n",
    "<p style=\"color:green\"> The primary objective of this project is to build a machine learning classification model that\r\n",
    " can predict the sentiment of IMDb movie reviews. The dataset contains a collection of movie\r\n",
    " reviews, and each review is labeled as either positive or negative.\r\n",
    " Using text preprocessing, feature extraction techniques (such as TF-IDF), and various\r\n",
    " classification algorithms, the project will aim to develop a model that can effectively classify\r\n",
    " the sentiment of movie reviews. The model's performance will be evaluated using standard\r\n",
    " classification metrics, such as accuracy, precision, recall, and F1</p>-score."
   ]
  },
  {
   "cell_type": "markdown",
   "id": "a5a4ea58-fc4a-42c0-84ce-1b78fea286bb",
   "metadata": {},
   "source": [
    "<h2> 3. Dataset Information</h2>"
   ]
  },
  {
   "cell_type": "markdown",
   "id": "138f7c7d-eefc-46ea-86bb-212e05cb68be",
   "metadata": {},
   "source": [
    "<p style=\"color:green\">The IMDb dataset contains a large number of movie reviews, each labeled with either a\r\n",
    " positive or negative sentiment<br>.\r\n",
    " <b>● Textof the revie </b>w: The actual review provided by the use<br>r.\r\n",
    "<b> ● Sentiment lab </b>el: The sentiment of the review, either \"positive\" or \"negativ</p>e.\""
   ]
  },
  {
   "cell_type": "markdown",
   "id": "7cc47093-3dcb-4c24-8598-8c50ad115236",
   "metadata": {},
   "source": [
    "<h1>Project  Deliverables</h1>"
   ]
  },
  {
   "cell_type": "markdown",
   "id": "cab2aa13-2d79-475d-afdf-e559951b876d",
   "metadata": {},
   "source": [
    "<h2> 1. Data Exploration and Preprocessing (5 Marks)</h2>"
   ]
  },
  {
   "cell_type": "markdown",
   "id": "89a96d6d-dbda-4b27-b89c-39cad38d0ad0",
   "metadata": {},
   "source": [
    "<h4>Basic Data Exploration</h4>"
   ]
  },
  {
   "cell_type": "code",
   "execution_count": 1,
   "id": "bd14ca36-8445-44d9-ad61-43894866f5d6",
   "metadata": {},
   "outputs": [],
   "source": [
    "import numpy as np\n",
    "import pandas as pd"
   ]
  },
  {
   "cell_type": "code",
   "execution_count": 2,
   "id": "67d4dc1e-f1d2-4333-8296-3c470a62aa06",
   "metadata": {},
   "outputs": [],
   "source": [
    "df = pd.read_csv(\"Imdb - data_imdb.csv\")"
   ]
  },
  {
   "cell_type": "code",
   "execution_count": 3,
   "id": "84a2516c-0cc3-4e9d-96f3-a1dae4199f09",
   "metadata": {},
   "outputs": [
    {
     "data": {
      "text/html": [
       "<div>\n",
       "<style scoped>\n",
       "    .dataframe tbody tr th:only-of-type {\n",
       "        vertical-align: middle;\n",
       "    }\n",
       "\n",
       "    .dataframe tbody tr th {\n",
       "        vertical-align: top;\n",
       "    }\n",
       "\n",
       "    .dataframe thead th {\n",
       "        text-align: right;\n",
       "    }\n",
       "</style>\n",
       "<table border=\"1\" class=\"dataframe\">\n",
       "  <thead>\n",
       "    <tr style=\"text-align: right;\">\n",
       "      <th></th>\n",
       "      <th>review</th>\n",
       "      <th>sentiment</th>\n",
       "    </tr>\n",
       "  </thead>\n",
       "  <tbody>\n",
       "    <tr>\n",
       "      <th>0</th>\n",
       "      <td>One of the other reviewers has mentioned that ...</td>\n",
       "      <td>positive</td>\n",
       "    </tr>\n",
       "    <tr>\n",
       "      <th>1</th>\n",
       "      <td>A wonderful little production. &lt;br /&gt;&lt;br /&gt;The...</td>\n",
       "      <td>positive</td>\n",
       "    </tr>\n",
       "    <tr>\n",
       "      <th>2</th>\n",
       "      <td>I thought this was a wonderful way to spend ti...</td>\n",
       "      <td>positive</td>\n",
       "    </tr>\n",
       "    <tr>\n",
       "      <th>3</th>\n",
       "      <td>Basically there's a family where a little boy ...</td>\n",
       "      <td>negative</td>\n",
       "    </tr>\n",
       "    <tr>\n",
       "      <th>4</th>\n",
       "      <td>Petter Mattei's \"Love in the Time of Money\" is...</td>\n",
       "      <td>positive</td>\n",
       "    </tr>\n",
       "  </tbody>\n",
       "</table>\n",
       "</div>"
      ],
      "text/plain": [
       "                                              review sentiment\n",
       "0  One of the other reviewers has mentioned that ...  positive\n",
       "1  A wonderful little production. <br /><br />The...  positive\n",
       "2  I thought this was a wonderful way to spend ti...  positive\n",
       "3  Basically there's a family where a little boy ...  negative\n",
       "4  Petter Mattei's \"Love in the Time of Money\" is...  positive"
      ]
     },
     "execution_count": 3,
     "metadata": {},
     "output_type": "execute_result"
    }
   ],
   "source": [
    "df.head()"
   ]
  },
  {
   "cell_type": "markdown",
   "id": "1a8991e3-ab21-4d79-861d-da85e9eee6c4",
   "metadata": {},
   "source": [
    "<h4>Checking Null Value</h4>"
   ]
  },
  {
   "cell_type": "code",
   "execution_count": 4,
   "id": "a1029860-8aaf-4c4c-a253-b330b774b4fc",
   "metadata": {},
   "outputs": [
    {
     "data": {
      "text/plain": [
       "review       0\n",
       "sentiment    0\n",
       "dtype: int64"
      ]
     },
     "execution_count": 4,
     "metadata": {},
     "output_type": "execute_result"
    }
   ],
   "source": [
    "df.isnull().sum()"
   ]
  },
  {
   "cell_type": "code",
   "execution_count": 5,
   "id": "ea9cd25e-d9b7-44d2-9855-7e92288e76a7",
   "metadata": {},
   "outputs": [
    {
     "name": "stdout",
     "output_type": "stream",
     "text": [
      "<class 'pandas.core.frame.DataFrame'>\n",
      "RangeIndex: 50000 entries, 0 to 49999\n",
      "Data columns (total 2 columns):\n",
      " #   Column     Non-Null Count  Dtype \n",
      "---  ------     --------------  ----- \n",
      " 0   review     50000 non-null  object\n",
      " 1   sentiment  50000 non-null  object\n",
      "dtypes: object(2)\n",
      "memory usage: 781.4+ KB\n"
     ]
    }
   ],
   "source": [
    "df.info()"
   ]
  },
  {
   "cell_type": "code",
   "execution_count": null,
   "id": "ebfd0d93-f0e6-46c9-86c2-75f9e1aec518",
   "metadata": {},
   "outputs": [],
   "source": []
  },
  {
   "cell_type": "markdown",
   "id": "3b0de4c3-d4bf-400c-a4d6-4598de6e7a7b",
   "metadata": {},
   "source": [
    "<h4> identifying imbalanced classes (positive/negative)</h4>"
   ]
  },
  {
   "cell_type": "code",
   "execution_count": 6,
   "id": "01cc7479-f6a1-497d-a7b4-e42d3f66317f",
   "metadata": {},
   "outputs": [
    {
     "data": {
      "text/plain": [
       "sentiment\n",
       "positive    50.0\n",
       "negative    50.0\n",
       "Name: proportion, dtype: float64"
      ]
     },
     "execution_count": 6,
     "metadata": {},
     "output_type": "execute_result"
    }
   ],
   "source": [
    "sentiment_count = df[\"sentiment\"].value_counts(normalize=True)*100\n",
    "sentiment_count"
   ]
  },
  {
   "cell_type": "code",
   "execution_count": 7,
   "id": "bd131bea-8303-4d45-a99c-df6f3ff7e526",
   "metadata": {},
   "outputs": [],
   "source": [
    "import matplotlib.pyplot as plt\n",
    "import seaborn as sns"
   ]
  },
  {
   "cell_type": "code",
   "execution_count": 8,
   "id": "fd655baf-ba9e-42bc-bf57-2e3772401155",
   "metadata": {},
   "outputs": [],
   "source": [
    "\n",
    "# Count the number of positive and negative reviews\n",
    "sentiment_counts = df[\"sentiment\"].value_counts()"
   ]
  },
  {
   "cell_type": "code",
   "execution_count": 9,
   "id": "8edfa7cd-72c5-4400-b592-a3043e895ea0",
   "metadata": {},
   "outputs": [],
   "source": [
    "\n",
    "# Calculate review lengths\n",
    "df[\"review_length\"] = df[\"review\"].apply(len)"
   ]
  },
  {
   "cell_type": "code",
   "execution_count": 10,
   "id": "2f344694-d6e9-495d-a2fb-3738ece32618",
   "metadata": {},
   "outputs": [
    {
     "data": {
      "text/plain": [
       "Text(0.5, 0, 'Sentiment')"
      ]
     },
     "execution_count": 10,
     "metadata": {},
     "output_type": "execute_result"
    },
    {
     "data": {
      "image/png": "[encoded data removed]",
      "text/plain": [
       "<Figure size 1200x500 with 1 Axes>"
      ]
     },
     "metadata": {},
     "output_type": "display_data"
    }
   ],
   "source": [
    "\n",
    "# Plot sentiment distribution\n",
    "plt.figure(figsize=(12, 5))\n",
    "\n",
    "plt.subplot(1, 2, 1)\n",
    "sns.barplot(x=sentiment_counts.index, y=sentiment_counts.values, palette=\"coolwarm\")\n",
    "plt.title(\"Sentiment Distribution\")\n",
    "plt.ylabel(\"Count\")\n",
    "plt.xlabel(\"Sentiment\")"
   ]
  },
  {
   "cell_type": "code",
   "execution_count": 11,
   "id": "adc85f35-158a-4995-8f54-b95bca2e2d57",
   "metadata": {},
   "outputs": [
    {
     "name": "stderr",
     "output_type": "stream",
     "text": [
      "C:\\Users\\Shivam\\anaconda3\\New folder\\Lib\\site-packages\\seaborn\\_oldcore.py:1119: FutureWarning: use_inf_as_na option is deprecated and will be removed in a future version. Convert inf values to NaN before operating instead.\n",
      "  with pd.option_context('mode.use_inf_as_na', True):\n"
     ]
    },
    {
     "data": {
      "image/png": "[encoded data removed]",
      "text/plain": [
       "<Figure size 640x480 with 1 Axes>"
      ]
     },
     "metadata": {},
     "output_type": "display_data"
    }
   ],
   "source": [
    "\n",
    "# Plot review length distribution\n",
    "plt.subplot(1, 2, 2)\n",
    "sns.histplot(df[\"review_length\"], bins=50, kde=True, color=\"blue\")\n",
    "plt.title(\"Review Length Distribution\")\n",
    "plt.xlabel(\"Review Length\")\n",
    "plt.ylabel(\"Frequency\")\n",
    "\n",
    "plt.tight_layout()\n",
    "plt.show()"
   ]
  },
  {
   "cell_type": "code",
   "execution_count": 12,
   "id": "bc20ef85-b03c-4a35-8807-7120888034e4",
   "metadata": {},
   "outputs": [
    {
     "data": {
      "text/plain": [
       "(sentiment\n",
       " positive    25000\n",
       " negative    25000\n",
       " Name: count, dtype: int64,\n",
       " count    50000.000000\n",
       " mean      1309.367720\n",
       " std        989.759532\n",
       " min          7.000000\n",
       " 25%        699.000000\n",
       " 50%        970.000000\n",
       " 75%       1590.000000\n",
       " max      13704.000000\n",
       " Name: review_length, dtype: float64)"
      ]
     },
     "execution_count": 12,
     "metadata": {},
     "output_type": "execute_result"
    }
   ],
   "source": [
    "sentiment_counts, df[\"review_length\"].describe()"
   ]
  },
  {
   "cell_type": "code",
   "execution_count": null,
   "id": "4fdce210-2669-4ee5-a00f-057a481ea8fb",
   "metadata": {},
   "outputs": [],
   "source": []
  },
  {
   "cell_type": "markdown",
   "id": "dd36cecf-2895-49c9-a911-3975fcca32e7",
   "metadata": {},
   "source": [
    "<h3> Perform data cleaning and text preprocessing.</h3>"
   ]
  },
  {
   "cell_type": "markdown",
   "id": "c7927b61-a70e-4b61-bd14-ed3c15a3d840",
   "metadata": {},
   "source": [
    "<h4>Removing stop words, punctuation, and special characters.\n",
    "</h4>"
   ]
  },
  {
   "cell_type": "code",
   "execution_count": 13,
   "id": "df90ce51-d351-4fbf-a9a4-6a98bbd97661",
   "metadata": {},
   "outputs": [],
   "source": [
    "import string\n",
    "from nltk.corpus import stopwords\n",
    "import nltk"
   ]
  },
  {
   "cell_type": "code",
   "execution_count": 14,
   "id": "e9f61715-8b0f-4800-9e90-2b39a9ed97d3",
   "metadata": {},
   "outputs": [
    {
     "name": "stderr",
     "output_type": "stream",
     "text": [
      "[nltk_data] Downloading package stopwords to\n",
      "[nltk_data]     C:\\Users\\Shivam/nltk_data...\n",
      "[nltk_data]   Package stopwords is already up-to-date!\n"
     ]
    },
    {
     "data": {
      "text/plain": [
       "True"
      ]
     },
     "execution_count": 14,
     "metadata": {},
     "output_type": "execute_result"
    }
   ],
   "source": [
    "nltk.download(\"stopwords\")"
   ]
  },
  {
   "cell_type": "code",
   "execution_count": 15,
   "id": "40dbcc77-7bad-41df-8092-d7a2a52576cc",
   "metadata": {},
   "outputs": [],
   "source": [
    "stop_words = set(stopwords.words('english'))"
   ]
  },
  {
   "cell_type": "code",
   "execution_count": 16,
   "id": "aa13ace1-ebfe-4718-af91-cde0417c88b2",
   "metadata": {},
   "outputs": [
    {
     "data": {
      "text/plain": [
       "{'a',\n",
       " 'about',\n",
       " 'above',\n",
       " 'after',\n",
       " 'again',\n",
       " 'against',\n",
       " 'ain',\n",
       " 'all',\n",
       " 'am',\n",
       " 'an',\n",
       " 'and',\n",
       " 'any',\n",
       " 'are',\n",
       " 'aren',\n",
       " \"aren't\",\n",
       " 'as',\n",
       " 'at',\n",
       " 'be',\n",
       " 'because',\n",
       " 'been',\n",
       " 'before',\n",
       " 'being',\n",
       " 'below',\n",
       " 'between',\n",
       " 'both',\n",
       " 'but',\n",
       " 'by',\n",
       " 'can',\n",
       " 'couldn',\n",
       " \"couldn't\",\n",
       " 'd',\n",
       " 'did',\n",
       " 'didn',\n",
       " \"didn't\",\n",
       " 'do',\n",
       " 'does',\n",
       " 'doesn',\n",
       " \"doesn't\",\n",
       " 'doing',\n",
       " 'don',\n",
       " \"don't\",\n",
       " 'down',\n",
       " 'during',\n",
       " 'each',\n",
       " 'few',\n",
       " 'for',\n",
       " 'from',\n",
       " 'further',\n",
       " 'had',\n",
       " 'hadn',\n",
       " \"hadn't\",\n",
       " 'has',\n",
       " 'hasn',\n",
       " \"hasn't\",\n",
       " 'have',\n",
       " 'haven',\n",
       " \"haven't\",\n",
       " 'having',\n",
       " 'he',\n",
       " \"he'd\",\n",
       " \"he'll\",\n",
       " \"he's\",\n",
       " 'her',\n",
       " 'here',\n",
       " 'hers',\n",
       " 'herself',\n",
       " 'him',\n",
       " 'himself',\n",
       " 'his',\n",
       " 'how',\n",
       " 'i',\n",
       " \"i'd\",\n",
       " \"i'll\",\n",
       " \"i'm\",\n",
       " \"i've\",\n",
       " 'if',\n",
       " 'in',\n",
       " 'into',\n",
       " 'is',\n",
       " 'isn',\n",
       " \"isn't\",\n",
       " 'it',\n",
       " \"it'd\",\n",
       " \"it'll\",\n",
       " \"it's\",\n",
       " 'its',\n",
       " 'itself',\n",
       " 'just',\n",
       " 'll',\n",
       " 'm',\n",
       " 'ma',\n",
       " 'me',\n",
       " 'mightn',\n",
       " \"mightn't\",\n",
       " 'more',\n",
       " 'most',\n",
       " 'mustn',\n",
       " \"mustn't\",\n",
       " 'my',\n",
       " 'myself',\n",
       " 'needn',\n",
       " \"needn't\",\n",
       " 'no',\n",
       " 'nor',\n",
       " 'not',\n",
       " 'now',\n",
       " 'o',\n",
       " 'of',\n",
       " 'off',\n",
       " 'on',\n",
       " 'once',\n",
       " 'only',\n",
       " 'or',\n",
       " 'other',\n",
       " 'our',\n",
       " 'ours',\n",
       " 'ourselves',\n",
       " 'out',\n",
       " 'over',\n",
       " 'own',\n",
       " 're',\n",
       " 's',\n",
       " 'same',\n",
       " 'shan',\n",
       " \"shan't\",\n",
       " 'she',\n",
       " \"she'd\",\n",
       " \"she'll\",\n",
       " \"she's\",\n",
       " 'should',\n",
       " \"should've\",\n",
       " 'shouldn',\n",
       " \"shouldn't\",\n",
       " 'so',\n",
       " 'some',\n",
       " 'such',\n",
       " 't',\n",
       " 'than',\n",
       " 'that',\n",
       " \"that'll\",\n",
       " 'the',\n",
       " 'their',\n",
       " 'theirs',\n",
       " 'them',\n",
       " 'themselves',\n",
       " 'then',\n",
       " 'there',\n",
       " 'these',\n",
       " 'they',\n",
       " \"they'd\",\n",
       " \"they'll\",\n",
       " \"they're\",\n",
       " \"they've\",\n",
       " 'this',\n",
       " 'those',\n",
       " 'through',\n",
       " 'to',\n",
       " 'too',\n",
       " 'under',\n",
       " 'until',\n",
       " 'up',\n",
       " 've',\n",
       " 'very',\n",
       " 'was',\n",
       " 'wasn',\n",
       " \"wasn't\",\n",
       " 'we',\n",
       " \"we'd\",\n",
       " \"we'll\",\n",
       " \"we're\",\n",
       " \"we've\",\n",
       " 'were',\n",
       " 'weren',\n",
       " \"weren't\",\n",
       " 'what',\n",
       " 'when',\n",
       " 'where',\n",
       " 'which',\n",
       " 'while',\n",
       " 'who',\n",
       " 'whom',\n",
       " 'why',\n",
       " 'will',\n",
       " 'with',\n",
       " 'won',\n",
       " \"won't\",\n",
       " 'wouldn',\n",
       " \"wouldn't\",\n",
       " 'y',\n",
       " 'you',\n",
       " \"you'd\",\n",
       " \"you'll\",\n",
       " \"you're\",\n",
       " \"you've\",\n",
       " 'your',\n",
       " 'yours',\n",
       " 'yourself',\n",
       " 'yourselves'}"
      ]
     },
     "execution_count": 16,
     "metadata": {},
     "output_type": "execute_result"
    }
   ],
   "source": [
    "stop_words"
   ]
  },
  {
   "cell_type": "code",
   "execution_count": 17,
   "id": "fa3d2949-1905-4ccd-a8b5-6245075138f6",
   "metadata": {},
   "outputs": [],
   "source": [
    "punctuations = string.punctuation"
   ]
  },
  {
   "cell_type": "code",
   "execution_count": 18,
   "id": "b86d08ba-4c48-40b6-ba62-ddf50b570e51",
   "metadata": {},
   "outputs": [],
   "source": [
    "def clean_text(text):\n",
    "    text = text.lower()\n",
    "    text = \"\".join([char for  char in text if char not in punctuations])\n",
    "    words = text.split()\n",
    "    words = [word for word in words if word not in stop_words]\n",
    "    return \" \".join(words)"
   ]
  },
  {
   "cell_type": "code",
   "execution_count": 19,
   "id": "57c7d25d-18d1-423a-80fd-e39808ea93ea",
   "metadata": {},
   "outputs": [],
   "source": [
    "df['cleanned_review'] = df['review'].apply(clean_text)"
   ]
  },
  {
   "cell_type": "code",
   "execution_count": 20,
   "id": "a3b3ff23-cc24-497f-8230-abccec5ba74a",
   "metadata": {},
   "outputs": [
    {
     "data": {
      "text/html": [
       "<div>\n",
       "<style scoped>\n",
       "    .dataframe tbody tr th:only-of-type {\n",
       "        vertical-align: middle;\n",
       "    }\n",
       "\n",
       "    .dataframe tbody tr th {\n",
       "        vertical-align: top;\n",
       "    }\n",
       "\n",
       "    .dataframe thead th {\n",
       "        text-align: right;\n",
       "    }\n",
       "</style>\n",
       "<table border=\"1\" class=\"dataframe\">\n",
       "  <thead>\n",
       "    <tr style=\"text-align: right;\">\n",
       "      <th></th>\n",
       "      <th>review</th>\n",
       "      <th>cleanned_review</th>\n",
       "    </tr>\n",
       "  </thead>\n",
       "  <tbody>\n",
       "    <tr>\n",
       "      <th>0</th>\n",
       "      <td>One of the other reviewers has mentioned that ...</td>\n",
       "      <td>one reviewers mentioned watching 1 oz episode ...</td>\n",
       "    </tr>\n",
       "    <tr>\n",
       "      <th>1</th>\n",
       "      <td>A wonderful little production. &lt;br /&gt;&lt;br /&gt;The...</td>\n",
       "      <td>wonderful little production br br filming tech...</td>\n",
       "    </tr>\n",
       "    <tr>\n",
       "      <th>2</th>\n",
       "      <td>I thought this was a wonderful way to spend ti...</td>\n",
       "      <td>thought wonderful way spend time hot summer we...</td>\n",
       "    </tr>\n",
       "    <tr>\n",
       "      <th>3</th>\n",
       "      <td>Basically there's a family where a little boy ...</td>\n",
       "      <td>basically theres family little boy jake thinks...</td>\n",
       "    </tr>\n",
       "    <tr>\n",
       "      <th>4</th>\n",
       "      <td>Petter Mattei's \"Love in the Time of Money\" is...</td>\n",
       "      <td>petter matteis love time money visually stunni...</td>\n",
       "    </tr>\n",
       "  </tbody>\n",
       "</table>\n",
       "</div>"
      ],
      "text/plain": [
       "                                              review  \\\n",
       "0  One of the other reviewers has mentioned that ...   \n",
       "1  A wonderful little production. <br /><br />The...   \n",
       "2  I thought this was a wonderful way to spend ti...   \n",
       "3  Basically there's a family where a little boy ...   \n",
       "4  Petter Mattei's \"Love in the Time of Money\" is...   \n",
       "\n",
       "                                     cleanned_review  \n",
       "0  one reviewers mentioned watching 1 oz episode ...  \n",
       "1  wonderful little production br br filming tech...  \n",
       "2  thought wonderful way spend time hot summer we...  \n",
       "3  basically theres family little boy jake thinks...  \n",
       "4  petter matteis love time money visually stunni...  "
      ]
     },
     "execution_count": 20,
     "metadata": {},
     "output_type": "execute_result"
    }
   ],
   "source": [
    "df[[\"review\", \"cleanned_review\"]].head()"
   ]
  },
  {
   "cell_type": "code",
   "execution_count": null,
   "id": "69628b09-8b46-4283-a0ae-0e77b811533d",
   "metadata": {},
   "outputs": [],
   "source": []
  },
  {
   "cell_type": "markdown",
   "id": "96da4449-07ae-4458-b72f-77de9d14845b",
   "metadata": {},
   "source": [
    "<h4>Tokenization of text (splitting text into words)</h4>"
   ]
  },
  {
   "cell_type": "code",
   "execution_count": 21,
   "id": "35ad52d1-8c18-463d-83cd-c633c8c2e841",
   "metadata": {},
   "outputs": [
    {
     "name": "stderr",
     "output_type": "stream",
     "text": [
      "[nltk_data] Downloading package punkt to C:\\Users\\Shivam/nltk_data...\n",
      "[nltk_data]   Unzipping tokenizers\\punkt.zip.\n"
     ]
    },
    {
     "data": {
      "text/plain": [
       "True"
      ]
     },
     "execution_count": 21,
     "metadata": {},
     "output_type": "execute_result"
    }
   ],
   "source": [
    "from nltk.tokenize import word_tokenize\n",
    "nltk.download(\"punkt\")"
   ]
  },
  {
   "cell_type": "code",
   "execution_count": 22,
   "id": "9b36385f-9f4a-41b2-85f4-abdfab87bde5",
   "metadata": {},
   "outputs": [
    {
     "data": {
      "text/plain": [
       "FileSystemPathPointer('C:\\\\Users\\\\Shivam\\\\nltk_data\\\\tokenizers\\\\punkt')"
      ]
     },
     "execution_count": 22,
     "metadata": {},
     "output_type": "execute_result"
    }
   ],
   "source": [
    "import nltk\n",
    "nltk.data.find('tokenizers/punkt')"
   ]
  },
  {
   "cell_type": "code",
   "execution_count": 23,
   "id": "7498921b-a058-4e4a-8888-464d2940a2cc",
   "metadata": {},
   "outputs": [
    {
     "name": "stderr",
     "output_type": "stream",
     "text": [
      "[nltk_data] Downloading package punkt_tab to\n",
      "[nltk_data]     C:\\Users\\Shivam/nltk_data...\n",
      "[nltk_data]   Package punkt_tab is already up-to-date!\n"
     ]
    },
    {
     "data": {
      "text/plain": [
       "True"
      ]
     },
     "execution_count": 23,
     "metadata": {},
     "output_type": "execute_result"
    }
   ],
   "source": [
    "import nltk\n",
    "nltk.download('punkt_tab')"
   ]
  },
  {
   "cell_type": "code",
   "execution_count": 24,
   "id": "112e92d5-9cb2-400c-abaf-65aec82c171a",
   "metadata": {},
   "outputs": [],
   "source": [
    "df[\"tokenized_review\"] = df[\"cleanned_review\"].apply(word_tokenize)"
   ]
  },
  {
   "cell_type": "code",
   "execution_count": 25,
   "id": "88062b40-9fa0-4331-a79d-09ac4992e222",
   "metadata": {},
   "outputs": [
    {
     "data": {
      "text/html": [
       "<div>\n",
       "<style scoped>\n",
       "    .dataframe tbody tr th:only-of-type {\n",
       "        vertical-align: middle;\n",
       "    }\n",
       "\n",
       "    .dataframe tbody tr th {\n",
       "        vertical-align: top;\n",
       "    }\n",
       "\n",
       "    .dataframe thead th {\n",
       "        text-align: right;\n",
       "    }\n",
       "</style>\n",
       "<table border=\"1\" class=\"dataframe\">\n",
       "  <thead>\n",
       "    <tr style=\"text-align: right;\">\n",
       "      <th></th>\n",
       "      <th>cleanned_review</th>\n",
       "      <th>tokenized_review</th>\n",
       "    </tr>\n",
       "  </thead>\n",
       "  <tbody>\n",
       "    <tr>\n",
       "      <th>0</th>\n",
       "      <td>one reviewers mentioned watching 1 oz episode ...</td>\n",
       "      <td>[one, reviewers, mentioned, watching, 1, oz, e...</td>\n",
       "    </tr>\n",
       "    <tr>\n",
       "      <th>1</th>\n",
       "      <td>wonderful little production br br filming tech...</td>\n",
       "      <td>[wonderful, little, production, br, br, filmin...</td>\n",
       "    </tr>\n",
       "    <tr>\n",
       "      <th>2</th>\n",
       "      <td>thought wonderful way spend time hot summer we...</td>\n",
       "      <td>[thought, wonderful, way, spend, time, hot, su...</td>\n",
       "    </tr>\n",
       "    <tr>\n",
       "      <th>3</th>\n",
       "      <td>basically theres family little boy jake thinks...</td>\n",
       "      <td>[basically, theres, family, little, boy, jake,...</td>\n",
       "    </tr>\n",
       "    <tr>\n",
       "      <th>4</th>\n",
       "      <td>petter matteis love time money visually stunni...</td>\n",
       "      <td>[petter, matteis, love, time, money, visually,...</td>\n",
       "    </tr>\n",
       "  </tbody>\n",
       "</table>\n",
       "</div>"
      ],
      "text/plain": [
       "                                     cleanned_review  \\\n",
       "0  one reviewers mentioned watching 1 oz episode ...   \n",
       "1  wonderful little production br br filming tech...   \n",
       "2  thought wonderful way spend time hot summer we...   \n",
       "3  basically theres family little boy jake thinks...   \n",
       "4  petter matteis love time money visually stunni...   \n",
       "\n",
       "                                    tokenized_review  \n",
       "0  [one, reviewers, mentioned, watching, 1, oz, e...  \n",
       "1  [wonderful, little, production, br, br, filmin...  \n",
       "2  [thought, wonderful, way, spend, time, hot, su...  \n",
       "3  [basically, theres, family, little, boy, jake,...  \n",
       "4  [petter, matteis, love, time, money, visually,...  "
      ]
     },
     "execution_count": 25,
     "metadata": {},
     "output_type": "execute_result"
    }
   ],
   "source": [
    "df[[\"cleanned_review\", \"tokenized_review\"]].head()"
   ]
  },
  {
   "cell_type": "markdown",
   "id": "6f4cb9b3-9cd1-4d0b-a717-21c2627fece4",
   "metadata": {},
   "source": [
    "<h3> Lemmatization and stemming.</h3>"
   ]
  },
  {
   "cell_type": "code",
   "execution_count": 26,
   "id": "c76e4301-f857-48dd-8065-e5d326f09a09",
   "metadata": {},
   "outputs": [],
   "source": [
    "from nltk.stem import PorterStemmer, WordNetLemmatizer"
   ]
  },
  {
   "cell_type": "code",
   "execution_count": 27,
   "id": "16508994-43bc-4062-bd81-217ff2aefb8c",
   "metadata": {},
   "outputs": [],
   "source": [
    "stemmer = PorterStemmer()\n",
    "lemmatizer = WordNetLemmatizer()"
   ]
  },
  {
   "cell_type": "code",
   "execution_count": 28,
   "id": "874721a9-b27d-4640-a434-dbfe402f467c",
   "metadata": {},
   "outputs": [
    {
     "name": "stderr",
     "output_type": "stream",
     "text": [
      "[nltk_data] Downloading package wordnet to\n",
      "[nltk_data]     C:\\Users\\Shivam/nltk_data...\n",
      "[nltk_data]   Package wordnet is already up-to-date!\n"
     ]
    },
    {
     "data": {
      "text/plain": [
       "True"
      ]
     },
     "execution_count": 28,
     "metadata": {},
     "output_type": "execute_result"
    }
   ],
   "source": [
    "nltk.download(\"wordnet\")"
   ]
  },
  {
   "cell_type": "code",
   "execution_count": 29,
   "id": "6268c984-6ab9-46b5-a1cd-8b06fc5acafc",
   "metadata": {},
   "outputs": [],
   "source": [
    "df[\"stemmed_review\"] = df[\"tokenized_review\"].apply(lambda tokens: [stemmer.stem(word) for word in tokens])"
   ]
  },
  {
   "cell_type": "code",
   "execution_count": 30,
   "id": "579871ee-99a7-4798-98d6-0f9456b55218",
   "metadata": {},
   "outputs": [],
   "source": [
    "df[\"lemmatized_review\"] = df[\"tokenized_review\"].apply(lambda tokens: [lemmatizer.lemmatize(word) for word in tokens])"
   ]
  },
  {
   "cell_type": "code",
   "execution_count": 31,
   "id": "cd241eb9-27c6-4a7a-9591-6a58436e2946",
   "metadata": {},
   "outputs": [
    {
     "data": {
      "text/html": [
       "<div>\n",
       "<style scoped>\n",
       "    .dataframe tbody tr th:only-of-type {\n",
       "        vertical-align: middle;\n",
       "    }\n",
       "\n",
       "    .dataframe tbody tr th {\n",
       "        vertical-align: top;\n",
       "    }\n",
       "\n",
       "    .dataframe thead th {\n",
       "        text-align: right;\n",
       "    }\n",
       "</style>\n",
       "<table border=\"1\" class=\"dataframe\">\n",
       "  <thead>\n",
       "    <tr style=\"text-align: right;\">\n",
       "      <th></th>\n",
       "      <th>tokenized_review</th>\n",
       "      <th>stemmed_review</th>\n",
       "      <th>lemmatized_review</th>\n",
       "    </tr>\n",
       "  </thead>\n",
       "  <tbody>\n",
       "    <tr>\n",
       "      <th>0</th>\n",
       "      <td>[one, reviewers, mentioned, watching, 1, oz, e...</td>\n",
       "      <td>[one, review, mention, watch, 1, oz, episod, y...</td>\n",
       "      <td>[one, reviewer, mentioned, watching, 1, oz, ep...</td>\n",
       "    </tr>\n",
       "    <tr>\n",
       "      <th>1</th>\n",
       "      <td>[wonderful, little, production, br, br, filmin...</td>\n",
       "      <td>[wonder, littl, product, br, br, film, techniq...</td>\n",
       "      <td>[wonderful, little, production, br, br, filmin...</td>\n",
       "    </tr>\n",
       "    <tr>\n",
       "      <th>2</th>\n",
       "      <td>[thought, wonderful, way, spend, time, hot, su...</td>\n",
       "      <td>[thought, wonder, way, spend, time, hot, summe...</td>\n",
       "      <td>[thought, wonderful, way, spend, time, hot, su...</td>\n",
       "    </tr>\n",
       "    <tr>\n",
       "      <th>3</th>\n",
       "      <td>[basically, theres, family, little, boy, jake,...</td>\n",
       "      <td>[basic, there, famili, littl, boy, jake, think...</td>\n",
       "      <td>[basically, there, family, little, boy, jake, ...</td>\n",
       "    </tr>\n",
       "    <tr>\n",
       "      <th>4</th>\n",
       "      <td>[petter, matteis, love, time, money, visually,...</td>\n",
       "      <td>[petter, mattei, love, time, money, visual, st...</td>\n",
       "      <td>[petter, matteis, love, time, money, visually,...</td>\n",
       "    </tr>\n",
       "  </tbody>\n",
       "</table>\n",
       "</div>"
      ],
      "text/plain": [
       "                                    tokenized_review  \\\n",
       "0  [one, reviewers, mentioned, watching, 1, oz, e...   \n",
       "1  [wonderful, little, production, br, br, filmin...   \n",
       "2  [thought, wonderful, way, spend, time, hot, su...   \n",
       "3  [basically, theres, family, little, boy, jake,...   \n",
       "4  [petter, matteis, love, time, money, visually,...   \n",
       "\n",
       "                                      stemmed_review  \\\n",
       "0  [one, review, mention, watch, 1, oz, episod, y...   \n",
       "1  [wonder, littl, product, br, br, film, techniq...   \n",
       "2  [thought, wonder, way, spend, time, hot, summe...   \n",
       "3  [basic, there, famili, littl, boy, jake, think...   \n",
       "4  [petter, mattei, love, time, money, visual, st...   \n",
       "\n",
       "                                   lemmatized_review  \n",
       "0  [one, reviewer, mentioned, watching, 1, oz, ep...  \n",
       "1  [wonderful, little, production, br, br, filmin...  \n",
       "2  [thought, wonderful, way, spend, time, hot, su...  \n",
       "3  [basically, there, family, little, boy, jake, ...  \n",
       "4  [petter, matteis, love, time, money, visually,...  "
      ]
     },
     "execution_count": 31,
     "metadata": {},
     "output_type": "execute_result"
    }
   ],
   "source": [
    "df[[\"tokenized_review\", \"stemmed_review\", \"lemmatized_review\"]].head()"
   ]
  },
  {
   "cell_type": "markdown",
   "id": "99755a10-4450-4137-ba72-a22aa6756435",
   "metadata": {},
   "source": [
    "<h3>Vectorization using techniques like Bag-of-Words and TF-IDF.</h3>"
   ]
  },
  {
   "cell_type": "code",
   "execution_count": 32,
   "id": "0105dd0d-1577-4929-8bfc-20bee7e881a7",
   "metadata": {},
   "outputs": [],
   "source": [
    "from sklearn.feature_extraction.text import CountVectorizer, TfidfVectorizer"
   ]
  },
  {
   "cell_type": "code",
   "execution_count": 33,
   "id": "40c64df7-b19a-433a-a490-ce15cf648e67",
   "metadata": {},
   "outputs": [],
   "source": [
    "bow_vectorizer = CountVectorizer()\n",
    "tfidf_vectorizer = TfidfVectorizer()"
   ]
  },
  {
   "cell_type": "code",
   "execution_count": 34,
   "id": "595f8cc3-ee42-4479-873e-f0a61865c6f3",
   "metadata": {},
   "outputs": [],
   "source": [
    "bow_matrix = bow_vectorizer.fit_transform(df)"
   ]
  },
  {
   "cell_type": "code",
   "execution_count": 35,
   "id": "f5a557d2-567d-434a-a5fd-aa4dfbab8736",
   "metadata": {},
   "outputs": [],
   "source": [
    "tfidf_matrix = tfidf_vectorizer.fit_transform(df)"
   ]
  },
  {
   "cell_type": "code",
   "execution_count": 36,
   "id": "89f8ba23-ef75-481f-97d8-25162e492d80",
   "metadata": {},
   "outputs": [],
   "source": [
    "bow_df = pd.DataFrame(bow_matrix.toarray(), columns=bow_vectorizer.get_feature_names_out())\n",
    "tfidf_df = pd.DataFrame(tfidf_matrix.toarray(), columns=tfidf_vectorizer.get_feature_names_out())"
   ]
  },
  {
   "cell_type": "code",
   "execution_count": 37,
   "id": "8c682cb1-5163-473b-a404-be124ce5fc3a",
   "metadata": {},
   "outputs": [
    {
     "data": {
      "text/html": [
       "<div>\n",
       "<style scoped>\n",
       "    .dataframe tbody tr th:only-of-type {\n",
       "        vertical-align: middle;\n",
       "    }\n",
       "\n",
       "    .dataframe tbody tr th {\n",
       "        vertical-align: top;\n",
       "    }\n",
       "\n",
       "    .dataframe thead th {\n",
       "        text-align: right;\n",
       "    }\n",
       "</style>\n",
       "<table border=\"1\" class=\"dataframe\">\n",
       "  <thead>\n",
       "    <tr style=\"text-align: right;\">\n",
       "      <th></th>\n",
       "      <th>cleanned_review</th>\n",
       "      <th>lemmatized_review</th>\n",
       "      <th>review</th>\n",
       "      <th>review_length</th>\n",
       "      <th>sentiment</th>\n",
       "      <th>stemmed_review</th>\n",
       "      <th>tokenized_review</th>\n",
       "    </tr>\n",
       "  </thead>\n",
       "  <tbody>\n",
       "    <tr>\n",
       "      <th>0</th>\n",
       "      <td>0</td>\n",
       "      <td>0</td>\n",
       "      <td>1</td>\n",
       "      <td>0</td>\n",
       "      <td>0</td>\n",
       "      <td>0</td>\n",
       "      <td>0</td>\n",
       "    </tr>\n",
       "    <tr>\n",
       "      <th>1</th>\n",
       "      <td>0</td>\n",
       "      <td>0</td>\n",
       "      <td>0</td>\n",
       "      <td>0</td>\n",
       "      <td>1</td>\n",
       "      <td>0</td>\n",
       "      <td>0</td>\n",
       "    </tr>\n",
       "    <tr>\n",
       "      <th>2</th>\n",
       "      <td>0</td>\n",
       "      <td>0</td>\n",
       "      <td>0</td>\n",
       "      <td>1</td>\n",
       "      <td>0</td>\n",
       "      <td>0</td>\n",
       "      <td>0</td>\n",
       "    </tr>\n",
       "    <tr>\n",
       "      <th>3</th>\n",
       "      <td>1</td>\n",
       "      <td>0</td>\n",
       "      <td>0</td>\n",
       "      <td>0</td>\n",
       "      <td>0</td>\n",
       "      <td>0</td>\n",
       "      <td>0</td>\n",
       "    </tr>\n",
       "    <tr>\n",
       "      <th>4</th>\n",
       "      <td>0</td>\n",
       "      <td>0</td>\n",
       "      <td>0</td>\n",
       "      <td>0</td>\n",
       "      <td>0</td>\n",
       "      <td>0</td>\n",
       "      <td>1</td>\n",
       "    </tr>\n",
       "    <tr>\n",
       "      <th>5</th>\n",
       "      <td>0</td>\n",
       "      <td>0</td>\n",
       "      <td>0</td>\n",
       "      <td>0</td>\n",
       "      <td>0</td>\n",
       "      <td>1</td>\n",
       "      <td>0</td>\n",
       "    </tr>\n",
       "    <tr>\n",
       "      <th>6</th>\n",
       "      <td>0</td>\n",
       "      <td>1</td>\n",
       "      <td>0</td>\n",
       "      <td>0</td>\n",
       "      <td>0</td>\n",
       "      <td>0</td>\n",
       "      <td>0</td>\n",
       "    </tr>\n",
       "  </tbody>\n",
       "</table>\n",
       "</div>"
      ],
      "text/plain": [
       "   cleanned_review  lemmatized_review  review  review_length  sentiment  \\\n",
       "0                0                  0       1              0          0   \n",
       "1                0                  0       0              0          1   \n",
       "2                0                  0       0              1          0   \n",
       "3                1                  0       0              0          0   \n",
       "4                0                  0       0              0          0   \n",
       "5                0                  0       0              0          0   \n",
       "6                0                  1       0              0          0   \n",
       "\n",
       "   stemmed_review  tokenized_review  \n",
       "0               0                 0  \n",
       "1               0                 0  \n",
       "2               0                 0  \n",
       "3               0                 0  \n",
       "4               0                 1  \n",
       "5               1                 0  \n",
       "6               0                 0  "
      ]
     },
     "execution_count": 37,
     "metadata": {},
     "output_type": "execute_result"
    }
   ],
   "source": [
    "bow_df"
   ]
  },
  {
   "cell_type": "code",
   "execution_count": 38,
   "id": "96163aa9-785f-4e13-b3d0-ad50bfe8368b",
   "metadata": {},
   "outputs": [
    {
     "data": {
      "text/html": [
       "<div>\n",
       "<style scoped>\n",
       "    .dataframe tbody tr th:only-of-type {\n",
       "        vertical-align: middle;\n",
       "    }\n",
       "\n",
       "    .dataframe tbody tr th {\n",
       "        vertical-align: top;\n",
       "    }\n",
       "\n",
       "    .dataframe thead th {\n",
       "        text-align: right;\n",
       "    }\n",
       "</style>\n",
       "<table border=\"1\" class=\"dataframe\">\n",
       "  <thead>\n",
       "    <tr style=\"text-align: right;\">\n",
       "      <th></th>\n",
       "      <th>cleanned_review</th>\n",
       "      <th>lemmatized_review</th>\n",
       "      <th>review</th>\n",
       "      <th>review_length</th>\n",
       "      <th>sentiment</th>\n",
       "      <th>stemmed_review</th>\n",
       "      <th>tokenized_review</th>\n",
       "    </tr>\n",
       "  </thead>\n",
       "  <tbody>\n",
       "    <tr>\n",
       "      <th>0</th>\n",
       "      <td>0.0</td>\n",
       "      <td>0.0</td>\n",
       "      <td>1.0</td>\n",
       "      <td>0.0</td>\n",
       "      <td>0.0</td>\n",
       "      <td>0.0</td>\n",
       "      <td>0.0</td>\n",
       "    </tr>\n",
       "    <tr>\n",
       "      <th>1</th>\n",
       "      <td>0.0</td>\n",
       "      <td>0.0</td>\n",
       "      <td>0.0</td>\n",
       "      <td>0.0</td>\n",
       "      <td>1.0</td>\n",
       "      <td>0.0</td>\n",
       "      <td>0.0</td>\n",
       "    </tr>\n",
       "    <tr>\n",
       "      <th>2</th>\n",
       "      <td>0.0</td>\n",
       "      <td>0.0</td>\n",
       "      <td>0.0</td>\n",
       "      <td>1.0</td>\n",
       "      <td>0.0</td>\n",
       "      <td>0.0</td>\n",
       "      <td>0.0</td>\n",
       "    </tr>\n",
       "    <tr>\n",
       "      <th>3</th>\n",
       "      <td>1.0</td>\n",
       "      <td>0.0</td>\n",
       "      <td>0.0</td>\n",
       "      <td>0.0</td>\n",
       "      <td>0.0</td>\n",
       "      <td>0.0</td>\n",
       "      <td>0.0</td>\n",
       "    </tr>\n",
       "    <tr>\n",
       "      <th>4</th>\n",
       "      <td>0.0</td>\n",
       "      <td>0.0</td>\n",
       "      <td>0.0</td>\n",
       "      <td>0.0</td>\n",
       "      <td>0.0</td>\n",
       "      <td>0.0</td>\n",
       "      <td>1.0</td>\n",
       "    </tr>\n",
       "    <tr>\n",
       "      <th>5</th>\n",
       "      <td>0.0</td>\n",
       "      <td>0.0</td>\n",
       "      <td>0.0</td>\n",
       "      <td>0.0</td>\n",
       "      <td>0.0</td>\n",
       "      <td>1.0</td>\n",
       "      <td>0.0</td>\n",
       "    </tr>\n",
       "    <tr>\n",
       "      <th>6</th>\n",
       "      <td>0.0</td>\n",
       "      <td>1.0</td>\n",
       "      <td>0.0</td>\n",
       "      <td>0.0</td>\n",
       "      <td>0.0</td>\n",
       "      <td>0.0</td>\n",
       "      <td>0.0</td>\n",
       "    </tr>\n",
       "  </tbody>\n",
       "</table>\n",
       "</div>"
      ],
      "text/plain": [
       "   cleanned_review  lemmatized_review  review  review_length  sentiment  \\\n",
       "0              0.0                0.0     1.0            0.0        0.0   \n",
       "1              0.0                0.0     0.0            0.0        1.0   \n",
       "2              0.0                0.0     0.0            1.0        0.0   \n",
       "3              1.0                0.0     0.0            0.0        0.0   \n",
       "4              0.0                0.0     0.0            0.0        0.0   \n",
       "5              0.0                0.0     0.0            0.0        0.0   \n",
       "6              0.0                1.0     0.0            0.0        0.0   \n",
       "\n",
       "   stemmed_review  tokenized_review  \n",
       "0             0.0               0.0  \n",
       "1             0.0               0.0  \n",
       "2             0.0               0.0  \n",
       "3             0.0               0.0  \n",
       "4             0.0               1.0  \n",
       "5             1.0               0.0  \n",
       "6             0.0               0.0  "
      ]
     },
     "execution_count": 38,
     "metadata": {},
     "output_type": "execute_result"
    }
   ],
   "source": [
    " tfidf_df"
   ]
  },
  {
   "cell_type": "code",
   "execution_count": 39,
   "id": "16f5bb10-d2a9-4dfc-9c92-015ee20f89ea",
   "metadata": {},
   "outputs": [],
   "source": [
    "from sklearn.feature_extraction.text import TfidfVectorizer"
   ]
  },
  {
   "cell_type": "code",
   "execution_count": 40,
   "id": "d6b83c2e-c182-4baf-b3dc-4a71d913c089",
   "metadata": {},
   "outputs": [],
   "source": [
    "df[\"word_count\"] = df[\"cleanned_review\"].apply(lambda x: len(x.split()))\n",
    "df[\"char_count\"] = df[\"cleanned_review\"].apply(len)\n",
    "df[\"avg_word_length\"] = df[\"char_count\"] / df[\"word_count\"]"
   ]
  },
  {
   "cell_type": "code",
   "execution_count": 41,
   "id": "6e39e2df-27ec-48cd-abe3-9be54ff421df",
   "metadata": {},
   "outputs": [],
   "source": [
    "tfidf_vectorizer = TfidfVectorizer(max_features=5000)\n",
    "tfidf_features = tfidf_vectorizer.fit_transform(df[\"cleanned_review\"])"
   ]
  },
  {
   "cell_type": "code",
   "execution_count": 42,
   "id": "9111565a-b83c-410a-9474-d7dc76d12abd",
   "metadata": {},
   "outputs": [],
   "source": [
    "tfidf_df = pd.DataFrame(tfidf_features.toarray(), columns=tfidf_vectorizer.get_feature_names_out())"
   ]
  },
  {
   "cell_type": "code",
   "execution_count": 43,
   "id": "e9f9ae4e-0704-4b03-ad3b-034219bde6af",
   "metadata": {},
   "outputs": [
    {
     "data": {
      "text/html": [
       "<div>\n",
       "<style scoped>\n",
       "    .dataframe tbody tr th:only-of-type {\n",
       "        vertical-align: middle;\n",
       "    }\n",
       "\n",
       "    .dataframe tbody tr th {\n",
       "        vertical-align: top;\n",
       "    }\n",
       "\n",
       "    .dataframe thead th {\n",
       "        text-align: right;\n",
       "    }\n",
       "</style>\n",
       "<table border=\"1\" class=\"dataframe\">\n",
       "  <thead>\n",
       "    <tr style=\"text-align: right;\">\n",
       "      <th></th>\n",
       "      <th>word_count</th>\n",
       "      <th>char_count</th>\n",
       "      <th>avg_word_length</th>\n",
       "    </tr>\n",
       "  </thead>\n",
       "  <tbody>\n",
       "    <tr>\n",
       "      <th>0</th>\n",
       "      <td>171</td>\n",
       "      <td>1168</td>\n",
       "      <td>6.830409</td>\n",
       "    </tr>\n",
       "    <tr>\n",
       "      <th>1</th>\n",
       "      <td>90</td>\n",
       "      <td>674</td>\n",
       "      <td>7.488889</td>\n",
       "    </tr>\n",
       "    <tr>\n",
       "      <th>2</th>\n",
       "      <td>88</td>\n",
       "      <td>591</td>\n",
       "      <td>6.715909</td>\n",
       "    </tr>\n",
       "    <tr>\n",
       "      <th>3</th>\n",
       "      <td>72</td>\n",
       "      <td>473</td>\n",
       "      <td>6.569444</td>\n",
       "    </tr>\n",
       "    <tr>\n",
       "      <th>4</th>\n",
       "      <td>130</td>\n",
       "      <td>876</td>\n",
       "      <td>6.738462</td>\n",
       "    </tr>\n",
       "  </tbody>\n",
       "</table>\n",
       "</div>"
      ],
      "text/plain": [
       "   word_count  char_count  avg_word_length\n",
       "0         171        1168         6.830409\n",
       "1          90         674         7.488889\n",
       "2          88         591         6.715909\n",
       "3          72         473         6.569444\n",
       "4         130         876         6.738462"
      ]
     },
     "execution_count": 43,
     "metadata": {},
     "output_type": "execute_result"
    }
   ],
   "source": [
    "\n",
    "df[[\"word_count\", \"char_count\", \"avg_word_length\"]].head()"
   ]
  },
  {
   "cell_type": "code",
   "execution_count": 44,
   "id": "b47773bf-4e44-4381-b345-830059190265",
   "metadata": {},
   "outputs": [
    {
     "data": {
      "text/html": [
       "<div>\n",
       "<style scoped>\n",
       "    .dataframe tbody tr th:only-of-type {\n",
       "        vertical-align: middle;\n",
       "    }\n",
       "\n",
       "    .dataframe tbody tr th {\n",
       "        vertical-align: top;\n",
       "    }\n",
       "\n",
       "    .dataframe thead th {\n",
       "        text-align: right;\n",
       "    }\n",
       "</style>\n",
       "<table border=\"1\" class=\"dataframe\">\n",
       "  <thead>\n",
       "    <tr style=\"text-align: right;\">\n",
       "      <th></th>\n",
       "      <th>10</th>\n",
       "      <th>100</th>\n",
       "      <th>1010</th>\n",
       "      <th>11</th>\n",
       "      <th>110</th>\n",
       "      <th>12</th>\n",
       "      <th>13</th>\n",
       "      <th>13th</th>\n",
       "      <th>14</th>\n",
       "      <th>15</th>\n",
       "      <th>...</th>\n",
       "      <th>youll</th>\n",
       "      <th>young</th>\n",
       "      <th>younger</th>\n",
       "      <th>youre</th>\n",
       "      <th>youth</th>\n",
       "      <th>youve</th>\n",
       "      <th>zero</th>\n",
       "      <th>zombie</th>\n",
       "      <th>zombies</th>\n",
       "      <th>zone</th>\n",
       "    </tr>\n",
       "  </thead>\n",
       "  <tbody>\n",
       "    <tr>\n",
       "      <th>0</th>\n",
       "      <td>0.000000</td>\n",
       "      <td>0.0</td>\n",
       "      <td>0.0</td>\n",
       "      <td>0.0</td>\n",
       "      <td>0.0</td>\n",
       "      <td>0.0</td>\n",
       "      <td>0.0</td>\n",
       "      <td>0.0</td>\n",
       "      <td>0.0</td>\n",
       "      <td>0.0</td>\n",
       "      <td>...</td>\n",
       "      <td>0.060317</td>\n",
       "      <td>0.000000</td>\n",
       "      <td>0.0</td>\n",
       "      <td>0.00000</td>\n",
       "      <td>0.0</td>\n",
       "      <td>0.0</td>\n",
       "      <td>0.0</td>\n",
       "      <td>0.000000</td>\n",
       "      <td>0.0</td>\n",
       "      <td>0.0</td>\n",
       "    </tr>\n",
       "    <tr>\n",
       "      <th>1</th>\n",
       "      <td>0.000000</td>\n",
       "      <td>0.0</td>\n",
       "      <td>0.0</td>\n",
       "      <td>0.0</td>\n",
       "      <td>0.0</td>\n",
       "      <td>0.0</td>\n",
       "      <td>0.0</td>\n",
       "      <td>0.0</td>\n",
       "      <td>0.0</td>\n",
       "      <td>0.0</td>\n",
       "      <td>...</td>\n",
       "      <td>0.000000</td>\n",
       "      <td>0.000000</td>\n",
       "      <td>0.0</td>\n",
       "      <td>0.00000</td>\n",
       "      <td>0.0</td>\n",
       "      <td>0.0</td>\n",
       "      <td>0.0</td>\n",
       "      <td>0.000000</td>\n",
       "      <td>0.0</td>\n",
       "      <td>0.0</td>\n",
       "    </tr>\n",
       "    <tr>\n",
       "      <th>2</th>\n",
       "      <td>0.000000</td>\n",
       "      <td>0.0</td>\n",
       "      <td>0.0</td>\n",
       "      <td>0.0</td>\n",
       "      <td>0.0</td>\n",
       "      <td>0.0</td>\n",
       "      <td>0.0</td>\n",
       "      <td>0.0</td>\n",
       "      <td>0.0</td>\n",
       "      <td>0.0</td>\n",
       "      <td>...</td>\n",
       "      <td>0.000000</td>\n",
       "      <td>0.081479</td>\n",
       "      <td>0.0</td>\n",
       "      <td>0.00000</td>\n",
       "      <td>0.0</td>\n",
       "      <td>0.0</td>\n",
       "      <td>0.0</td>\n",
       "      <td>0.000000</td>\n",
       "      <td>0.0</td>\n",
       "      <td>0.0</td>\n",
       "    </tr>\n",
       "    <tr>\n",
       "      <th>3</th>\n",
       "      <td>0.076446</td>\n",
       "      <td>0.0</td>\n",
       "      <td>0.0</td>\n",
       "      <td>0.0</td>\n",
       "      <td>0.0</td>\n",
       "      <td>0.0</td>\n",
       "      <td>0.0</td>\n",
       "      <td>0.0</td>\n",
       "      <td>0.0</td>\n",
       "      <td>0.0</td>\n",
       "      <td>...</td>\n",
       "      <td>0.000000</td>\n",
       "      <td>0.000000</td>\n",
       "      <td>0.0</td>\n",
       "      <td>0.07906</td>\n",
       "      <td>0.0</td>\n",
       "      <td>0.0</td>\n",
       "      <td>0.0</td>\n",
       "      <td>0.116961</td>\n",
       "      <td>0.0</td>\n",
       "      <td>0.0</td>\n",
       "    </tr>\n",
       "    <tr>\n",
       "      <th>4</th>\n",
       "      <td>0.000000</td>\n",
       "      <td>0.0</td>\n",
       "      <td>0.0</td>\n",
       "      <td>0.0</td>\n",
       "      <td>0.0</td>\n",
       "      <td>0.0</td>\n",
       "      <td>0.0</td>\n",
       "      <td>0.0</td>\n",
       "      <td>0.0</td>\n",
       "      <td>0.0</td>\n",
       "      <td>...</td>\n",
       "      <td>0.000000</td>\n",
       "      <td>0.000000</td>\n",
       "      <td>0.0</td>\n",
       "      <td>0.00000</td>\n",
       "      <td>0.0</td>\n",
       "      <td>0.0</td>\n",
       "      <td>0.0</td>\n",
       "      <td>0.000000</td>\n",
       "      <td>0.0</td>\n",
       "      <td>0.0</td>\n",
       "    </tr>\n",
       "  </tbody>\n",
       "</table>\n",
       "<p>5 rows × 5000 columns</p>\n",
       "</div>"
      ],
      "text/plain": [
       "         10  100  1010   11  110   12   13  13th   14   15  ...     youll  \\\n",
       "0  0.000000  0.0   0.0  0.0  0.0  0.0  0.0   0.0  0.0  0.0  ...  0.060317   \n",
       "1  0.000000  0.0   0.0  0.0  0.0  0.0  0.0   0.0  0.0  0.0  ...  0.000000   \n",
       "2  0.000000  0.0   0.0  0.0  0.0  0.0  0.0   0.0  0.0  0.0  ...  0.000000   \n",
       "3  0.076446  0.0   0.0  0.0  0.0  0.0  0.0   0.0  0.0  0.0  ...  0.000000   \n",
       "4  0.000000  0.0   0.0  0.0  0.0  0.0  0.0   0.0  0.0  0.0  ...  0.000000   \n",
       "\n",
       "      young  younger    youre  youth  youve  zero    zombie  zombies  zone  \n",
       "0  0.000000      0.0  0.00000    0.0    0.0   0.0  0.000000      0.0   0.0  \n",
       "1  0.000000      0.0  0.00000    0.0    0.0   0.0  0.000000      0.0   0.0  \n",
       "2  0.081479      0.0  0.00000    0.0    0.0   0.0  0.000000      0.0   0.0  \n",
       "3  0.000000      0.0  0.07906    0.0    0.0   0.0  0.116961      0.0   0.0  \n",
       "4  0.000000      0.0  0.00000    0.0    0.0   0.0  0.000000      0.0   0.0  \n",
       "\n",
       "[5 rows x 5000 columns]"
      ]
     },
     "execution_count": 44,
     "metadata": {},
     "output_type": "execute_result"
    }
   ],
   "source": [
    "tfidf_df.head()"
   ]
  },
  {
   "cell_type": "code",
   "execution_count": 45,
   "id": "c3b00696-3e38-4014-9c16-de0c8bae9845",
   "metadata": {},
   "outputs": [
    {
     "data": {
      "text/plain": [
       "(   word_count  char_count  avg_word_length\n",
       " 0         171        1168         6.830409\n",
       " 1          90         674         7.488889\n",
       " 2          88         591         6.715909\n",
       " 3          72         473         6.569444\n",
       " 4         130         876         6.738462,\n",
       "          10  100  1010   11  110   12   13  13th   14   15  ...     youll  \\\n",
       " 0  0.000000  0.0   0.0  0.0  0.0  0.0  0.0   0.0  0.0  0.0  ...  0.060317   \n",
       " 1  0.000000  0.0   0.0  0.0  0.0  0.0  0.0   0.0  0.0  0.0  ...  0.000000   \n",
       " 2  0.000000  0.0   0.0  0.0  0.0  0.0  0.0   0.0  0.0  0.0  ...  0.000000   \n",
       " 3  0.076446  0.0   0.0  0.0  0.0  0.0  0.0   0.0  0.0  0.0  ...  0.000000   \n",
       " 4  0.000000  0.0   0.0  0.0  0.0  0.0  0.0   0.0  0.0  0.0  ...  0.000000   \n",
       " \n",
       "       young  younger    youre  youth  youve  zero    zombie  zombies  zone  \n",
       " 0  0.000000      0.0  0.00000    0.0    0.0   0.0  0.000000      0.0   0.0  \n",
       " 1  0.000000      0.0  0.00000    0.0    0.0   0.0  0.000000      0.0   0.0  \n",
       " 2  0.081479      0.0  0.00000    0.0    0.0   0.0  0.000000      0.0   0.0  \n",
       " 3  0.000000      0.0  0.07906    0.0    0.0   0.0  0.116961      0.0   0.0  \n",
       " 4  0.000000      0.0  0.00000    0.0    0.0   0.0  0.000000      0.0   0.0  \n",
       " \n",
       " [5 rows x 5000 columns])"
      ]
     },
     "execution_count": 45,
     "metadata": {},
     "output_type": "execute_result"
    }
   ],
   "source": [
    "# Check for any issues in the cleaned text data before applying TF-IDF\n",
    "df[\"cleanned_review\"].dropna(inplace=True)  # Ensure no NaN values\n",
    "\n",
    "# Retry TF-IDF Vectorization\n",
    "try:\n",
    "    tfidf_features = tfidf_vectorizer.fit_transform(df[\"cleanned_review\"])\n",
    "    tfidf_df = pd.DataFrame(tfidf_features.toarray(), columns=tfidf_vectorizer.get_feature_names_out())\n",
    "    result = (df[[\"word_count\", \"char_count\", \"avg_word_length\"]].head(), tfidf_df.head())\n",
    "except Exception as e:\n",
    "    result = str(e)\n",
    "\n",
    "result"
   ]
  },
  {
   "cell_type": "markdown",
   "id": "eb0b6b46-942f-4ad9-ad7b-124acaaa6659",
   "metadata": {},
   "source": [
    "<h2>Model Development </h2>"
   ]
  },
  {
   "cell_type": "code",
   "execution_count": 46,
   "id": "576dec77-a30a-4e09-9377-bd422cc2e086",
   "metadata": {},
   "outputs": [],
   "source": [
    "from sklearn.model_selection import train_test_split\n",
    "from sklearn.linear_model import LogisticRegression\n",
    "from sklearn.naive_bayes import MultinomialNB\n",
    "from sklearn.svm import SVC\n",
    "from sklearn.ensemble import RandomForestClassifier\n",
    "from sklearn.metrics import accuracy_score, classification_report"
   ]
  },
  {
   "cell_type": "code",
   "execution_count": 47,
   "id": "68e875a5-9f29-4950-93e1-775e5bd41d35",
   "metadata": {},
   "outputs": [],
   "source": [
    "\n",
    "# Encode sentiment labels (positive -> 1, negative -> 0)\n",
    "df[\"sentiment\"] = df[\"sentiment\"].map({\"positive\": 1, \"negative\": 0})"
   ]
  },
  {
   "cell_type": "code",
   "execution_count": 48,
   "id": "986cf9f8-be6d-40ec-81ce-5a6d0b031dff",
   "metadata": {},
   "outputs": [],
   "source": [
    "\n",
    "# Split dataset into training and testing sets\n",
    "X_train, X_test, y_train, y_test = train_test_split(tfidf_df, df[\"sentiment\"], test_size=0.2, random_state=42)"
   ]
  },
  {
   "cell_type": "code",
   "execution_count": 49,
   "id": "5fdd0001-0d7e-4b9a-9ceb-9c090410b61d",
   "metadata": {},
   "outputs": [],
   "source": [
    "\n",
    "# Initialize models\n",
    "models = {\n",
    "    \"Logistic Regression\": LogisticRegression(max_iter=200),\n",
    "    \"Naive Bayes\": MultinomialNB(),\n",
    "    \"Support Vector Machine\": SVC(kernel='linear'),\n",
    "    \"Random Forest\": RandomForestClassifier(n_estimators=100, random_state=42)\n",
    "}"
   ]
  },
  {
   "cell_type": "code",
   "execution_count": 50,
   "id": "f489eac0-f70e-4e2c-b9ad-911b1d80a724",
   "metadata": {},
   "outputs": [],
   "source": [
    "\n",
    "# Train and evaluate models\n",
    "results = {}\n",
    "for name, model in models.items():\n",
    "    model.fit(X_train, y_train)\n",
    "    y_pred = model.predict(X_test)\n",
    "    accuracy = accuracy_score(y_test, y_pred)\n",
    "    results[name] = {\n",
    "        \"accuracy\": accuracy,\n",
    "        \"classification_report\": classification_report(y_test, y_pred, output_dict=True)\n",
    "    }"
   ]
  },
  {
   "cell_type": "code",
   "execution_count": 51,
   "id": "a2eacb26-6077-458d-b49a-f3f0750a1498",
   "metadata": {},
   "outputs": [
    {
     "data": {
      "text/plain": [
       "{'Logistic Regression': {'accuracy': 0.8879,\n",
       "  'classification_report': {'0': {'precision': 0.8975155279503105,\n",
       "    'recall': 0.8738157629510179,\n",
       "    'f1-score': 0.8855070983556327,\n",
       "    'support': 4961},\n",
       "   '1': {'precision': 0.8789168278529981,\n",
       "    'recall': 0.9017662234570352,\n",
       "    'f1-score': 0.890194926045646,\n",
       "    'support': 5039},\n",
       "   'accuracy': 0.8879,\n",
       "   'macro avg': {'precision': 0.8882161779016543,\n",
       "    'recall': 0.8877909932040265,\n",
       "    'f1-score': 0.8878510122006393,\n",
       "    'support': 10000},\n",
       "   'weighted avg': {'precision': 0.8881436429712747,\n",
       "    'recall': 0.8879,\n",
       "    'f1-score': 0.8878692947286305,\n",
       "    'support': 10000}}},\n",
       " 'Naive Bayes': {'accuracy': 0.8526,\n",
       "  'classification_report': {'0': {'precision': 0.8541539711557993,\n",
       "    'recall': 0.8476113686756702,\n",
       "    'f1-score': 0.8508700930797247,\n",
       "    'support': 4961},\n",
       "   '1': {'precision': 0.8510931652550718,\n",
       "    'recall': 0.8575114109942449,\n",
       "    'f1-score': 0.854290233293792,\n",
       "    'support': 5039},\n",
       "   'accuracy': 0.8526,\n",
       "   'macro avg': {'precision': 0.8526235682054355,\n",
       "    'recall': 0.8525613898349576,\n",
       "    'f1-score': 0.8525801631867583,\n",
       "    'support': 10000},\n",
       "   'weighted avg': {'precision': 0.8526116310624228,\n",
       "    'recall': 0.8526,\n",
       "    'f1-score': 0.8525935017335933,\n",
       "    'support': 10000}}},\n",
       " 'Support Vector Machine': {'accuracy': 0.8881,\n",
       "  'classification_report': {'0': {'precision': 0.8965730800990916,\n",
       "    'recall': 0.8754283410602701,\n",
       "    'f1-score': 0.8858745537990821,\n",
       "    'support': 4961},\n",
       "   '1': {'precision': 0.8801396431342126,\n",
       "    'recall': 0.9005755110140901,\n",
       "    'f1-score': 0.8902403138793527,\n",
       "    'support': 5039},\n",
       "   'accuracy': 0.8881,\n",
       "   'macro avg': {'precision': 0.8883563616166521,\n",
       "    'recall': 0.8880019260371801,\n",
       "    'f1-score': 0.8880574338392173,\n",
       "    'support': 10000},\n",
       "   'weighted avg': {'precision': 0.8882922712124891,\n",
       "    'recall': 0.8881,\n",
       "    'f1-score': 0.8880744603035304,\n",
       "    'support': 10000}}},\n",
       " 'Random Forest': {'accuracy': 0.8542,\n",
       "  'classification_report': {'0': {'precision': 0.8443090229998034,\n",
       "    'recall': 0.8657528724047571,\n",
       "    'f1-score': 0.8548964968152866,\n",
       "    'support': 4961},\n",
       "   '1': {'precision': 0.8644412782414004,\n",
       "    'recall': 0.8428259575312562,\n",
       "    'f1-score': 0.8534967845659165,\n",
       "    'support': 5039},\n",
       "   'accuracy': 0.8542,\n",
       "   'macro avg': {'precision': 0.8543751506206019,\n",
       "    'recall': 0.8542894149680067,\n",
       "    'f1-score': 0.8541966406906015,\n",
       "    'support': 10000},\n",
       "   'weighted avg': {'precision': 0.8544536664160441,\n",
       "    'recall': 0.8542,\n",
       "    'f1-score': 0.854191181812829,\n",
       "    'support': 10000}}}}"
      ]
     },
     "execution_count": 51,
     "metadata": {},
     "output_type": "execute_result"
    }
   ],
   "source": [
    "results"
   ]
  },
  {
   "cell_type": "code",
   "execution_count": 64,
   "id": "15503fcc-7b7b-4845-a31e-4dc9b5d8f676",
   "metadata": {},
   "outputs": [
    {
     "data": {
      "text/plain": [
       "{'Logistic Regression': {'Accuracy': 0.8879,\n",
       "  'Precision': 0.8789168278529981,\n",
       "  'Recall': 0.9017662234570352,\n",
       "  'F1-score': 0.890194926045646,\n",
       "  'ROC-AUC': 0.9589773441816201,\n",
       "  'Confusion Matrix': [[4335, 626], [495, 4544]]},\n",
       " 'Naive Bayes': {'Accuracy': 0.8526,\n",
       "  'Precision': 0.8510931652550718,\n",
       "  'Recall': 0.8575114109942449,\n",
       "  'F1-score': 0.854290233293792,\n",
       "  'ROC-AUC': 0.931401906491991,\n",
       "  'Confusion Matrix': [[4205, 756], [718, 4321]]},\n",
       " 'Support Vector Machine': {'Accuracy': 0.8881,\n",
       "  'Precision': 0.8801396431342126,\n",
       "  'Recall': 0.9005755110140901,\n",
       "  'F1-score': 0.8902403138793527,\n",
       "  'ROC-AUC': 'N/A',\n",
       "  'Confusion Matrix': [[4343, 618], [501, 4538]]},\n",
       " 'Random Forest': {'Accuracy': 0.8542,\n",
       "  'Precision': 0.8644412782414004,\n",
       "  'Recall': 0.8428259575312562,\n",
       "  'F1-score': 0.8534967845659165,\n",
       "  'ROC-AUC': 0.9317857498450206,\n",
       "  'Confusion Matrix': [[4295, 666], [792, 4247]]}}"
      ]
     },
     "execution_count": 64,
     "metadata": {},
     "output_type": "execute_result"
    }
   ],
   "source": [
    "from sklearn.metrics import confusion_matrix, roc_auc_score, precision_score, recall_score, f1_score, accuracy_score\n",
    "\n",
    "evaluation_results = {}\n",
    "for name, model in models.items():\n",
    "    y_pred = model.predict(X_test)\n",
    "    y_prob = model.predict_proba(X_test)[:, 1] if hasattr(model, \"predict_proba\") else None\n",
    "    \n",
    "    accuracy = accuracy_score(y_test, y_pred)\n",
    "    precision = precision_score(y_test, y_pred, pos_label=1)\n",
    "    recall = recall_score(y_test, y_pred, pos_label=1) \n",
    "    f1 = f1_score(y_test, y_pred, pos_label=1)  \n",
    "    roc_auc = roc_auc_score(y_test, y_prob) if y_prob is not None else \"N/A\"\n",
    "    cm = confusion_matrix(y_test, y_pred)\n",
    "    \n",
    "    evaluation_results[name] = {\n",
    "        \"Accuracy\": accuracy,\n",
    "        \"Precision\": precision,\n",
    "        \"Recall\": recall,\n",
    "        \"F1-score\": f1,\n",
    "        \"ROC-AUC\": roc_auc,\n",
    "        \"Confusion Matrix\": cm.tolist()\n",
    "    }\n",
    "\n",
    "evaluation_results"
   ]
  },
  {
   "cell_type": "code",
   "execution_count": 55,
   "id": "df79314e-9cb5-415c-9267-b2eb1d335a57",
   "metadata": {},
   "outputs": [
    {
     "data": {
      "text/plain": [
       "0.8879"
      ]
     },
     "execution_count": 55,
     "metadata": {},
     "output_type": "execute_result"
    }
   ],
   "source": [
    "accuracy"
   ]
  },
  {
   "cell_type": "markdown",
   "id": "28cf9634-2203-47fa-adda-928f18080aa5",
   "metadata": {},
   "source": [
    "<h2>Video Discription</h2>"
   ]
  },
  {
   "cell_type": "markdown",
   "id": "a72c6c8a-2854-4b20-b067-ec0d462481cf",
   "metadata": {},
   "source": [
    "<a href=\"\">here is project discription</a>"
   ]
  },
  {
   "cell_type": "code",
   "execution_count": null,
   "id": "516edd6a-0985-43ac-8f8f-953ee68dd2b1",
   "metadata": {},
   "outputs": [],
   "source": []
  }
 ],
 "metadata": {
  "kernelspec": {
   "display_name": "Python 3 (ipykernel)",
   "language": "python",
   "name": "python3"
  },
  "language_info": {
   "codemirror_mode": {
    "name": "ipython",
    "version": 3
   },
   "file_extension": ".py",
   "mimetype": "text/x-python",
   "name": "python",
   "nbconvert_exporter": "python",
   "pygments_lexer": "ipython3",
   "version": "3.11.7"
  }
 },
 "nbformat": 4,
 "nbformat_minor": 5
}
