{
 "cells": [
  {
   "cell_type": "markdown",
   "id": "b3306409-07cc-470f-a705-66f5ca70082e",
   "metadata": {},
   "source": [
    "<h1 style=\"color:blue\"> Part B : News Article Classification</h1>"
   ]
  },
  {
   "cell_type": "markdown",
   "id": "a8c765e2-9b1d-4fe8-b0c7-9c226aa7b37a",
   "metadata": {},
   "source": [
    "<h3> 1. Overview</h3>"
   ]
  },
  {
   "cell_type": "markdown",
   "id": "bf5ae26e-7de0-4981-b724-a7c408738527",
   "metadata": {},
   "source": [
    "<p> In today’s digital world, news articles are constantly being generated and shared across\r\n",
    " different platforms. For news organizations, social media platforms, and aggregators,\r\n",
    " classifying articles into specific categories such as sports, politics, and technology can help\r\n",
    " improve content management and recommendation systems. This project aims to develop a\r\n",
    " machine learning model that can classify news articles into predefined categories, such as\r\n",
    " sports, politics, and technology, based on their content.\r\n",
    " By automating this process, organizations can efficiently categorize large volumes of news\r\n",
    " articles, making it easier for readers to access relevant information based on their interests</p>"
   ]
  },
  {
   "cell_type": "markdown",
   "id": "0aa7ccd0-f650-4617-b923-603545c68ee7",
   "metadata": {},
   "source": [
    "<h3> 2. Problem Statement</h3>"
   ]
  },
  {
   "cell_type": "markdown",
   "id": "a66ad822-12eb-4857-aa84-78d900138e78",
   "metadata": {},
   "source": [
    "<p> The primary objective of this project is to build a classification model that can automatically\n",
    " categorize news articles into different predefined categories. The model will be trained using\n",
    " a labeled dataset of news articles and will output the most likely category (e.g., sports,\n",
    " politics, or technology) for any given article.<br>\n",
    " The goal is to:<br>\n",
    " ● Develop a robust classifier capable of handling articles from multiple categories.<br>\n",
    " ● Preprocess the text data, extract meaningful features, and train models to classify the\n",
    " articles.<br>\n",
    " ● Evaluate the model performance and provide actionable insights on how well it\n",
    " classifies articles.</p>"
   ]
  },
  {
   "cell_type": "markdown",
   "id": "399cbb1c-1494-42ba-ab83-b21e7dd87c92",
   "metadata": {},
   "source": [
    " <h3>3. Dataset Information</h3>"
   ]
  },
  {
   "cell_type": "markdown",
   "id": "2515418b-7361-44f8-a32b-eb7dee49d131",
   "metadata": {},
   "source": [
    " The dataset can be used from <a href=\"https://docs.google.com/spreadsheets/d/1m4YMfqQxo_DcbtzGqbfZitvJmytbWUE8qjixhHmtadk/edit?usp=sharing\">DataSet</a>"
   ]
  },
  {
   "cell_type": "code",
   "execution_count": 21,
   "id": "414a0ebf-d6dd-4238-bb6f-da88d940ab68",
   "metadata": {},
   "outputs": [],
   "source": [
    "import numpy as np\n",
    "import pandas as pd"
   ]
  },
  {
   "cell_type": "markdown",
   "id": "34af3c0c-4697-47cb-b4d3-22e4bc9fbb99",
   "metadata": {},
   "source": [
    "<h3> 1. Data Collection and Preprocessing</h3>"
   ]
  },
  {
   "cell_type": "code",
   "execution_count": 22,
   "id": "d63c59ad-6818-4d7a-bb09-3b8a8055eb49",
   "metadata": {},
   "outputs": [],
   "source": [
    "df_news = pd.read_csv(\"data_news - data_news.csv\")"
   ]
  },
  {
   "cell_type": "code",
   "execution_count": 23,
   "id": "428d0d6d-ef09-47af-9444-dac57298c84b",
   "metadata": {},
   "outputs": [
    {
     "data": {
      "text/html": [
       "<div>\n",
       "<style scoped>\n",
       "    .dataframe tbody tr th:only-of-type {\n",
       "        vertical-align: middle;\n",
       "    }\n",
       "\n",
       "    .dataframe tbody tr th {\n",
       "        vertical-align: top;\n",
       "    }\n",
       "\n",
       "    .dataframe thead th {\n",
       "        text-align: right;\n",
       "    }\n",
       "</style>\n",
       "<table border=\"1\" class=\"dataframe\">\n",
       "  <thead>\n",
       "    <tr style=\"text-align: right;\">\n",
       "      <th></th>\n",
       "      <th>category</th>\n",
       "      <th>headline</th>\n",
       "      <th>links</th>\n",
       "      <th>short_description</th>\n",
       "      <th>keywords</th>\n",
       "    </tr>\n",
       "  </thead>\n",
       "  <tbody>\n",
       "    <tr>\n",
       "      <th>0</th>\n",
       "      <td>WELLNESS</td>\n",
       "      <td>143 Miles in 35 Days: Lessons Learned</td>\n",
       "      <td>https://www.huffingtonpost.com/entry/running-l...</td>\n",
       "      <td>Resting is part of training. I've confirmed wh...</td>\n",
       "      <td>running-lessons</td>\n",
       "    </tr>\n",
       "    <tr>\n",
       "      <th>1</th>\n",
       "      <td>WELLNESS</td>\n",
       "      <td>Talking to Yourself: Crazy or Crazy Helpful?</td>\n",
       "      <td>https://www.huffingtonpost.com/entry/talking-t...</td>\n",
       "      <td>Think of talking to yourself as a tool to coac...</td>\n",
       "      <td>talking-to-yourself-crazy</td>\n",
       "    </tr>\n",
       "    <tr>\n",
       "      <th>2</th>\n",
       "      <td>WELLNESS</td>\n",
       "      <td>Crenezumab: Trial Will Gauge Whether Alzheimer...</td>\n",
       "      <td>https://www.huffingtonpost.com/entry/crenezuma...</td>\n",
       "      <td>The clock is ticking for the United States to ...</td>\n",
       "      <td>crenezumab-alzheimers-disease-drug</td>\n",
       "    </tr>\n",
       "    <tr>\n",
       "      <th>3</th>\n",
       "      <td>WELLNESS</td>\n",
       "      <td>Oh, What a Difference She Made</td>\n",
       "      <td>https://www.huffingtonpost.com/entry/meaningfu...</td>\n",
       "      <td>If you want to be busy, keep trying to be perf...</td>\n",
       "      <td>meaningful-life</td>\n",
       "    </tr>\n",
       "    <tr>\n",
       "      <th>4</th>\n",
       "      <td>WELLNESS</td>\n",
       "      <td>Green Superfoods</td>\n",
       "      <td>https://www.huffingtonpost.com/entry/green-sup...</td>\n",
       "      <td>First, the bad news: Soda bread, corned beef a...</td>\n",
       "      <td>green-superfoods</td>\n",
       "    </tr>\n",
       "  </tbody>\n",
       "</table>\n",
       "</div>"
      ],
      "text/plain": [
       "   category                                           headline  \\\n",
       "0  WELLNESS              143 Miles in 35 Days: Lessons Learned   \n",
       "1  WELLNESS       Talking to Yourself: Crazy or Crazy Helpful?   \n",
       "2  WELLNESS  Crenezumab: Trial Will Gauge Whether Alzheimer...   \n",
       "3  WELLNESS                     Oh, What a Difference She Made   \n",
       "4  WELLNESS                                   Green Superfoods   \n",
       "\n",
       "                                               links  \\\n",
       "0  https://www.huffingtonpost.com/entry/running-l...   \n",
       "1  https://www.huffingtonpost.com/entry/talking-t...   \n",
       "2  https://www.huffingtonpost.com/entry/crenezuma...   \n",
       "3  https://www.huffingtonpost.com/entry/meaningfu...   \n",
       "4  https://www.huffingtonpost.com/entry/green-sup...   \n",
       "\n",
       "                                   short_description  \\\n",
       "0  Resting is part of training. I've confirmed wh...   \n",
       "1  Think of talking to yourself as a tool to coac...   \n",
       "2  The clock is ticking for the United States to ...   \n",
       "3  If you want to be busy, keep trying to be perf...   \n",
       "4  First, the bad news: Soda bread, corned beef a...   \n",
       "\n",
       "                             keywords  \n",
       "0                     running-lessons  \n",
       "1           talking-to-yourself-crazy  \n",
       "2  crenezumab-alzheimers-disease-drug  \n",
       "3                     meaningful-life  \n",
       "4                    green-superfoods  "
      ]
     },
     "execution_count": 23,
     "metadata": {},
     "output_type": "execute_result"
    }
   ],
   "source": [
    "df_news.head()"
   ]
  },
  {
   "cell_type": "code",
   "execution_count": 24,
   "id": "ea68ee44-8583-4090-bdbd-32499742b8f1",
   "metadata": {},
   "outputs": [
    {
     "name": "stdout",
     "output_type": "stream",
     "text": [
      "<class 'pandas.core.frame.DataFrame'>\n",
      "RangeIndex: 50000 entries, 0 to 49999\n",
      "Data columns (total 5 columns):\n",
      " #   Column             Non-Null Count  Dtype \n",
      "---  ------             --------------  ----- \n",
      " 0   category           50000 non-null  object\n",
      " 1   headline           50000 non-null  object\n",
      " 2   links              50000 non-null  object\n",
      " 3   short_description  50000 non-null  object\n",
      " 4   keywords           47332 non-null  object\n",
      "dtypes: object(5)\n",
      "memory usage: 1.9+ MB\n"
     ]
    }
   ],
   "source": [
    "df_news.info()"
   ]
  },
  {
   "cell_type": "code",
   "execution_count": 25,
   "id": "7ebfb778-0040-4ce6-8e3a-b9be0c45f954",
   "metadata": {},
   "outputs": [],
   "source": [
    "import re"
   ]
  },
  {
   "cell_type": "code",
   "execution_count": 26,
   "id": "4e91bc46-4a60-41fa-a2ab-3704b0dc4e8b",
   "metadata": {},
   "outputs": [],
   "source": [
    "df_news = df_news.drop(columns=[\"links\"])"
   ]
  },
  {
   "cell_type": "markdown",
   "id": "a98397e9-41f0-4394-bf2d-93695649445e",
   "metadata": {},
   "source": [
    "<h3> 2. Feature Extraction</h3>"
   ]
  },
  {
   "cell_type": "code",
   "execution_count": 28,
   "id": "00769384-b97c-49a2-8cc8-c62f4cd32477",
   "metadata": {},
   "outputs": [],
   "source": [
    "df_news[\"keywords\"] = df_news[\"keywords\"].fillna(\"\")"
   ]
  },
  {
   "cell_type": "code",
   "execution_count": 29,
   "id": "7d90721a-fc33-4229-b8e9-c9b949b4fd51",
   "metadata": {},
   "outputs": [],
   "source": [
    "df_news[\"text\"] = df_news[\"headline\"] + \" \" + df_news[\"short_description\"] + \" \" + df_news[\"keywords\"]"
   ]
  },
  {
   "cell_type": "code",
   "execution_count": 30,
   "id": "859822f1-f660-4976-b2dd-4e4c43c35e62",
   "metadata": {},
   "outputs": [],
   "source": [
    "def preprocess_text(text):\n",
    "    text = text.lower()  \n",
    "    text = re.sub(r'<.*?>', ' ', text)  \n",
    "    text = re.sub(r'[^a-zA-Z\\s]', '', text) \n",
    "    text = re.sub(r'\\s+', ' ', text).strip()  \n",
    "    return text"
   ]
  },
  {
   "cell_type": "code",
   "execution_count": 31,
   "id": "e7eecd32-0e68-4304-9275-b7e1701208b3",
   "metadata": {},
   "outputs": [],
   "source": [
    "df_news[\"cleaned_text\"] = df_news[\"text\"].apply(preprocess_text)"
   ]
  },
  {
   "cell_type": "code",
   "execution_count": 32,
   "id": "621b901c-e5cd-486a-849a-5cc95b8018fa",
   "metadata": {},
   "outputs": [
    {
     "data": {
      "text/html": [
       "<div>\n",
       "<style scoped>\n",
       "    .dataframe tbody tr th:only-of-type {\n",
       "        vertical-align: middle;\n",
       "    }\n",
       "\n",
       "    .dataframe tbody tr th {\n",
       "        vertical-align: top;\n",
       "    }\n",
       "\n",
       "    .dataframe thead th {\n",
       "        text-align: right;\n",
       "    }\n",
       "</style>\n",
       "<table border=\"1\" class=\"dataframe\">\n",
       "  <thead>\n",
       "    <tr style=\"text-align: right;\">\n",
       "      <th></th>\n",
       "      <th>category</th>\n",
       "      <th>cleaned_text</th>\n",
       "    </tr>\n",
       "  </thead>\n",
       "  <tbody>\n",
       "    <tr>\n",
       "      <th>0</th>\n",
       "      <td>WELLNESS</td>\n",
       "      <td>miles in days lessons learned resting is part ...</td>\n",
       "    </tr>\n",
       "    <tr>\n",
       "      <th>1</th>\n",
       "      <td>WELLNESS</td>\n",
       "      <td>talking to yourself crazy or crazy helpful thi...</td>\n",
       "    </tr>\n",
       "    <tr>\n",
       "      <th>2</th>\n",
       "      <td>WELLNESS</td>\n",
       "      <td>crenezumab trial will gauge whether alzheimers...</td>\n",
       "    </tr>\n",
       "    <tr>\n",
       "      <th>3</th>\n",
       "      <td>WELLNESS</td>\n",
       "      <td>oh what a difference she made if you want to b...</td>\n",
       "    </tr>\n",
       "    <tr>\n",
       "      <th>4</th>\n",
       "      <td>WELLNESS</td>\n",
       "      <td>green superfoods first the bad news soda bread...</td>\n",
       "    </tr>\n",
       "  </tbody>\n",
       "</table>\n",
       "</div>"
      ],
      "text/plain": [
       "   category                                       cleaned_text\n",
       "0  WELLNESS  miles in days lessons learned resting is part ...\n",
       "1  WELLNESS  talking to yourself crazy or crazy helpful thi...\n",
       "2  WELLNESS  crenezumab trial will gauge whether alzheimers...\n",
       "3  WELLNESS  oh what a difference she made if you want to b...\n",
       "4  WELLNESS  green superfoods first the bad news soda bread..."
      ]
     },
     "execution_count": 32,
     "metadata": {},
     "output_type": "execute_result"
    }
   ],
   "source": [
    "df_news[[\"category\", \"cleaned_text\"]].head()"
   ]
  },
  {
   "cell_type": "code",
   "execution_count": 33,
   "id": "679d26e6-5892-4b28-a7ee-ea15ee7523a9",
   "metadata": {},
   "outputs": [],
   "source": [
    "import matplotlib.pyplot as plt\n",
    "import seaborn as sns\n",
    "from sklearn.feature_extraction.text import TfidfVectorizer\n"
   ]
  },
  {
   "cell_type": "code",
   "execution_count": 35,
   "id": "c66686db-8c5f-4c5d-80a3-904f908f5feb",
   "metadata": {},
   "outputs": [
    {
     "data": {
      "image/png": "[encoded data removed]",
      "text/plain": [
       "<Figure size 1200x600 with 1 Axes>"
      ]
     },
     "metadata": {},
     "output_type": "display_data"
    }
   ],
   "source": [
    "plt.figure(figsize=(12, 6))\n",
    "sns.countplot(y=df_news[\"category\"], order=df_news[\"category\"].value_counts().index, palette=\"viridis\")\n",
    "plt.xlabel(\"Count\")\n",
    "plt.ylabel(\"Category\")\n",
    "plt.title(\"Distribution of News Categories\")\n",
    "plt.show()"
   ]
  },
  {
   "cell_type": "code",
   "execution_count": 36,
   "id": "f9024c52-6ac0-46c1-b7a7-9cc372f0dd28",
   "metadata": {},
   "outputs": [],
   "source": [
    "tfidf_vectorizer = TfidfVectorizer(max_features=5000, stop_words=\"english\")\n",
    "X_tfidf = tfidf_vectorizer.fit_transform(df_news[\"cleaned_text\"])"
   ]
  },
  {
   "cell_type": "code",
   "execution_count": 37,
   "id": "3567556b-b089-4854-922b-f505ad1f4e83",
   "metadata": {},
   "outputs": [],
   "source": [
    "from sklearn.preprocessing import LabelEncoder\n",
    "label_encoder = LabelEncoder()\n",
    "y_labels = label_encoder.fit_transform(df_news[\"category\"])"
   ]
  },
  {
   "cell_type": "code",
   "execution_count": 38,
   "id": "6a1ddd4b-00aa-45f6-8aff-dedcc90308a5",
   "metadata": {},
   "outputs": [
    {
     "data": {
      "text/plain": [
       "((50000, 5000), 10)"
      ]
     },
     "execution_count": 38,
     "metadata": {},
     "output_type": "execute_result"
    }
   ],
   "source": [
    "X_tfidf.shape, len(set(y_labels))"
   ]
  },
  {
   "cell_type": "markdown",
   "id": "5019acd0-3e1d-4e46-9cdb-7c0bee988aa3",
   "metadata": {},
   "source": [
    "<h3> 3. Model Development and Training</h3>"
   ]
  },
  {
   "cell_type": "code",
   "execution_count": 39,
   "id": "ee412058-21e4-4899-924f-3d975eddc3f2",
   "metadata": {},
   "outputs": [],
   "source": [
    "from sklearn.model_selection import train_test_split\n",
    "from sklearn.linear_model import LogisticRegression\n",
    "from sklearn.naive_bayes import MultinomialNB\n",
    "from sklearn.svm import SVC\n",
    "from sklearn.metrics import accuracy_score"
   ]
  },
  {
   "cell_type": "code",
   "execution_count": 44,
   "id": "bf14f0d6-8041-4e92-b215-66a6fd513395",
   "metadata": {},
   "outputs": [],
   "source": [
    "X_train, X_test, y_train, y_test = train_test_split(X_tfidf, y_labels, test_size=0.2, random_state=42)"
   ]
  },
  {
   "cell_type": "code",
   "execution_count": 45,
   "id": "80d866fc-c506-4a90-a843-5316d6adec1c",
   "metadata": {},
   "outputs": [],
   "source": [
    "models = {\n",
    "    \"Logistic Regression\": LogisticRegression(max_iter=500),\n",
    "    \"Naive Bayes\": MultinomialNB(),\n",
    "    \"Support Vector Machine\": SVC(kernel='linear')\n",
    "}"
   ]
  },
  {
   "cell_type": "code",
   "execution_count": 46,
   "id": "75b696ca-08e6-45e1-bda1-188c0dd50487",
   "metadata": {},
   "outputs": [
    {
     "data": {
      "text/plain": [
       "{'Logistic Regression': 0.7901,\n",
       " 'Naive Bayes': 0.7771,\n",
       " 'Support Vector Machine': 0.7831}"
      ]
     },
     "execution_count": 46,
     "metadata": {},
     "output_type": "execute_result"
    }
   ],
   "source": [
    "model_results = {}\n",
    "for name, model in models.items():\n",
    "    model.fit(X_train, y_train)\n",
    "    y_pred = model.predict(X_test)\n",
    "    \n",
    "    accuracy = accuracy_score(y_test, y_pred)\n",
    "    model_results[name] = accuracy\n",
    "\n",
    "model_results"
   ]
  },
  {
   "cell_type": "code",
   "execution_count": 47,
   "id": "f68a898f-dfae-4cb6-889c-99a928bf4275",
   "metadata": {},
   "outputs": [
    {
     "data": {
      "text/plain": [
       "{'Logistic Regression': {'Classification Report': {'BUSINESS': {'precision': 0.7201923076923077,\n",
       "    'recall': 0.7842931937172775,\n",
       "    'f1-score': 0.750877192982456,\n",
       "    'support': 955},\n",
       "   'ENTERTAINMENT': {'precision': 0.7657841140529531,\n",
       "    'recall': 0.7634517766497462,\n",
       "    'f1-score': 0.764616166751398,\n",
       "    'support': 985},\n",
       "   'FOOD & DRINK': {'precision': 0.8348258706467662,\n",
       "    'recall': 0.821743388834476,\n",
       "    'f1-score': 0.8282329713721619,\n",
       "    'support': 1021},\n",
       "   'PARENTING': {'precision': 0.7803410230692076,\n",
       "    'recall': 0.7553398058252427,\n",
       "    'f1-score': 0.7676369018253577,\n",
       "    'support': 1030},\n",
       "   'POLITICS': {'precision': 0.7812177502579979,\n",
       "    'recall': 0.7321083172147002,\n",
       "    'f1-score': 0.7558662006989516,\n",
       "    'support': 1034},\n",
       "   'SPORTS': {'precision': 0.8689175769612711,\n",
       "    'recall': 0.8793969849246231,\n",
       "    'f1-score': 0.8741258741258742,\n",
       "    'support': 995},\n",
       "   'STYLE & BEAUTY': {'precision': 0.8622129436325678,\n",
       "    'recall': 0.8377281947261663,\n",
       "    'f1-score': 0.8497942386831275,\n",
       "    'support': 986},\n",
       "   'TRAVEL': {'precision': 0.8026449643947101,\n",
       "    'recall': 0.7827380952380952,\n",
       "    'f1-score': 0.7925665494726268,\n",
       "    'support': 1008},\n",
       "   'WELLNESS': {'precision': 0.720754716981132,\n",
       "    'recall': 0.757185332011893,\n",
       "    'f1-score': 0.7385210246495891,\n",
       "    'support': 1009},\n",
       "   'WORLD NEWS': {'precision': 0.7727727727727728,\n",
       "    'recall': 0.7901740020470829,\n",
       "    'f1-score': 0.7813765182186235,\n",
       "    'support': 977},\n",
       "   'accuracy': 0.7901,\n",
       "   'macro avg': {'precision': 0.7909664040461686,\n",
       "    'recall': 0.7904159091189303,\n",
       "    'f1-score': 0.7903613638780167,\n",
       "    'support': 10000},\n",
       "   'weighted avg': {'precision': 0.791199021168772,\n",
       "    'recall': 0.7901,\n",
       "    'f1-score': 0.7903224185858431,\n",
       "    'support': 10000}},\n",
       "  'Confusion Matrix': [[749, 18, 13, 17, 53, 11, 6, 10, 49, 29],\n",
       "   [27, 752, 14, 36, 29, 33, 31, 18, 25, 20],\n",
       "   [21, 19, 839, 20, 7, 15, 14, 36, 39, 11],\n",
       "   [26, 33, 17, 778, 28, 12, 21, 20, 88, 7],\n",
       "   [68, 24, 5, 22, 757, 16, 3, 17, 20, 102],\n",
       "   [13, 29, 6, 16, 16, 875, 7, 12, 5, 16],\n",
       "   [24, 45, 21, 18, 4, 5, 826, 18, 23, 2],\n",
       "   [28, 31, 40, 20, 10, 10, 25, 789, 27, 28],\n",
       "   [40, 19, 49, 48, 14, 17, 18, 28, 764, 12],\n",
       "   [44, 12, 1, 22, 51, 13, 7, 35, 20, 772]]},\n",
       " 'Naive Bayes': {'Classification Report': {'BUSINESS': {'precision': 0.726890756302521,\n",
       "    'recall': 0.724607329842932,\n",
       "    'f1-score': 0.725747246984793,\n",
       "    'support': 955},\n",
       "   'ENTERTAINMENT': {'precision': 0.7798941798941799,\n",
       "    'recall': 0.7482233502538072,\n",
       "    'f1-score': 0.7637305699481864,\n",
       "    'support': 985},\n",
       "   'FOOD & DRINK': {'precision': 0.8174831892411143,\n",
       "    'recall': 0.8334965719882468,\n",
       "    'f1-score': 0.82541222114452,\n",
       "    'support': 1021},\n",
       "   'PARENTING': {'precision': 0.6919602529358627,\n",
       "    'recall': 0.7436893203883496,\n",
       "    'f1-score': 0.7168928404305102,\n",
       "    'support': 1030},\n",
       "   'POLITICS': {'precision': 0.7905263157894736,\n",
       "    'recall': 0.7263056092843327,\n",
       "    'f1-score': 0.7570564516129032,\n",
       "    'support': 1034},\n",
       "   'SPORTS': {'precision': 0.8705402650356778,\n",
       "    'recall': 0.8582914572864322,\n",
       "    'f1-score': 0.8643724696356274,\n",
       "    'support': 995},\n",
       "   'STYLE & BEAUTY': {'precision': 0.8399592252803262,\n",
       "    'recall': 0.8356997971602435,\n",
       "    'f1-score': 0.8378240976105744,\n",
       "    'support': 986},\n",
       "   'TRAVEL': {'precision': 0.7835455435847208,\n",
       "    'recall': 0.7936507936507936,\n",
       "    'f1-score': 0.7885657959586003,\n",
       "    'support': 1008},\n",
       "   'WELLNESS': {'precision': 0.7053140096618358,\n",
       "    'recall': 0.7234886025768087,\n",
       "    'f1-score': 0.7142857142857143,\n",
       "    'support': 1009},\n",
       "   'WORLD NEWS': {'precision': 0.7760891590678825,\n",
       "    'recall': 0.7840327533265097,\n",
       "    'f1-score': 0.780040733197556,\n",
       "    'support': 977},\n",
       "   'accuracy': 0.7771,\n",
       "   'macro avg': {'precision': 0.7782202896793593,\n",
       "    'recall': 0.7771485585758455,\n",
       "    'f1-score': 0.7773928140808984,\n",
       "    'support': 10000},\n",
       "   'weighted avg': {'precision': 0.778125225865852,\n",
       "    'recall': 0.7771,\n",
       "    'f1-score': 0.7773138678575205,\n",
       "    'support': 10000}},\n",
       "  'Confusion Matrix': [[692, 12, 14, 44, 59, 13, 10, 18, 58, 35],\n",
       "   [20, 737, 16, 42, 26, 31, 54, 24, 21, 14],\n",
       "   [14, 14, 851, 29, 4, 8, 14, 51, 33, 3],\n",
       "   [27, 31, 22, 766, 24, 18, 23, 20, 91, 8],\n",
       "   [67, 20, 3, 25, 751, 19, 5, 13, 23, 108],\n",
       "   [11, 40, 7, 24, 15, 854, 4, 13, 9, 18],\n",
       "   [23, 35, 22, 34, 2, 3, 824, 19, 22, 2],\n",
       "   [20, 27, 42, 27, 8, 7, 23, 800, 29, 25],\n",
       "   [32, 13, 61, 93, 14, 15, 14, 29, 730, 8],\n",
       "   [46, 16, 3, 23, 47, 13, 10, 34, 19, 766]]},\n",
       " 'Support Vector Machine': {'Classification Report': {'BUSINESS': {'precision': 0.7066541705716963,\n",
       "    'recall': 0.7895287958115184,\n",
       "    'f1-score': 0.7457962413452027,\n",
       "    'support': 955},\n",
       "   'ENTERTAINMENT': {'precision': 0.7323529411764705,\n",
       "    'recall': 0.7583756345177665,\n",
       "    'f1-score': 0.7451371571072318,\n",
       "    'support': 985},\n",
       "   'FOOD & DRINK': {'precision': 0.8195926285160039,\n",
       "    'recall': 0.8276199804113614,\n",
       "    'f1-score': 0.8235867446393763,\n",
       "    'support': 1021},\n",
       "   'PARENTING': {'precision': 0.7683168316831683,\n",
       "    'recall': 0.7533980582524272,\n",
       "    'f1-score': 0.7607843137254903,\n",
       "    'support': 1030},\n",
       "   'POLITICS': {'precision': 0.7634854771784232,\n",
       "    'recall': 0.7117988394584139,\n",
       "    'f1-score': 0.7367367367367368,\n",
       "    'support': 1034},\n",
       "   'SPORTS': {'precision': 0.8838838838838838,\n",
       "    'recall': 0.8874371859296483,\n",
       "    'f1-score': 0.8856569709127381,\n",
       "    'support': 995},\n",
       "   'STYLE & BEAUTY': {'precision': 0.8682252922422954,\n",
       "    'recall': 0.8286004056795132,\n",
       "    'f1-score': 0.8479501816294758,\n",
       "    'support': 986},\n",
       "   'TRAVEL': {'precision': 0.8036622583926755,\n",
       "    'recall': 0.7837301587301587,\n",
       "    'f1-score': 0.7935710698141638,\n",
       "    'support': 1008},\n",
       "   'WELLNESS': {'precision': 0.7211350293542075,\n",
       "    'recall': 0.7304261645193261,\n",
       "    'f1-score': 0.7257508616445101,\n",
       "    'support': 1009},\n",
       "   'WORLD NEWS': {'precision': 0.77466251298027,\n",
       "    'recall': 0.7635619242579325,\n",
       "    'f1-score': 0.7690721649484535,\n",
       "    'support': 977},\n",
       "   'accuracy': 0.7831,\n",
       "   'macro avg': {'precision': 0.7841971025979094,\n",
       "    'recall': 0.7834477147568066,\n",
       "    'f1-score': 0.7834042442503379,\n",
       "    'support': 10000},\n",
       "   'weighted avg': {'precision': 0.7843933452581091,\n",
       "    'recall': 0.7831,\n",
       "    'f1-score': 0.78333645335066,\n",
       "    'support': 10000}},\n",
       "  'Confusion Matrix': [[754, 19, 14, 19, 48, 12, 3, 11, 44, 31],\n",
       "   [29, 747, 17, 37, 28, 33, 30, 19, 24, 21],\n",
       "   [25, 25, 845, 20, 8, 6, 15, 33, 39, 5],\n",
       "   [31, 38, 17, 776, 25, 11, 21, 24, 82, 5],\n",
       "   [83, 33, 4, 22, 736, 13, 3, 14, 20, 106],\n",
       "   [8, 35, 5, 11, 15, 883, 6, 10, 6, 16],\n",
       "   [20, 49, 22, 23, 6, 5, 817, 22, 19, 3],\n",
       "   [27, 30, 48, 24, 10, 7, 20, 790, 31, 21],\n",
       "   [49, 23, 57, 56, 18, 16, 19, 25, 737, 9],\n",
       "   [41, 21, 2, 22, 70, 13, 7, 35, 20, 746]]}}"
      ]
     },
     "execution_count": 47,
     "metadata": {},
     "output_type": "execute_result"
    }
   ],
   "source": [
    "from sklearn.metrics import classification_report, confusion_matrix\n",
    "\n",
    "evaluation_results = {}\n",
    "for name, model in models.items():\n",
    "    y_pred = model.predict(X_test)\n",
    "    \n",
    "    report = classification_report(y_test, y_pred, target_names=label_encoder.classes_, output_dict=True)\n",
    "    cm = confusion_matrix(y_test, y_pred)\n",
    "    \n",
    "    evaluation_results[name] = {\n",
    "        \"Classification Report\": report,\n",
    "        \"Confusion Matrix\": cm.tolist()\n",
    "    }\n",
    "\n",
    "evaluation_results"
   ]
  },
  {
   "cell_type": "code",
   "execution_count": 48,
   "id": "7637e561-38d8-4520-bffe-47a4ec7a7821",
   "metadata": {},
   "outputs": [
    {
     "name": "stdout",
     "output_type": "stream",
     "text": [
      "Model: Logistic Regression\n",
      "\n",
      "Classification Report:\n",
      "                 precision    recall  f1-score   support\n",
      "\n",
      "      BUSINESS       0.72      0.78      0.75       955\n",
      " ENTERTAINMENT       0.77      0.76      0.76       985\n",
      "  FOOD & DRINK       0.83      0.82      0.83      1021\n",
      "     PARENTING       0.78      0.76      0.77      1030\n",
      "      POLITICS       0.78      0.73      0.76      1034\n",
      "        SPORTS       0.87      0.88      0.87       995\n",
      "STYLE & BEAUTY       0.86      0.84      0.85       986\n",
      "        TRAVEL       0.80      0.78      0.79      1008\n",
      "      WELLNESS       0.72      0.76      0.74      1009\n",
      "    WORLD NEWS       0.77      0.79      0.78       977\n",
      "\n",
      "      accuracy                           0.79     10000\n",
      "     macro avg       0.79      0.79      0.79     10000\n",
      "  weighted avg       0.79      0.79      0.79     10000\n",
      "\n",
      "Confusion Matrix:\n",
      " [[749  18  13  17  53  11   6  10  49  29]\n",
      " [ 27 752  14  36  29  33  31  18  25  20]\n",
      " [ 21  19 839  20   7  15  14  36  39  11]\n",
      " [ 26  33  17 778  28  12  21  20  88   7]\n",
      " [ 68  24   5  22 757  16   3  17  20 102]\n",
      " [ 13  29   6  16  16 875   7  12   5  16]\n",
      " [ 24  45  21  18   4   5 826  18  23   2]\n",
      " [ 28  31  40  20  10  10  25 789  27  28]\n",
      " [ 40  19  49  48  14  17  18  28 764  12]\n",
      " [ 44  12   1  22  51  13   7  35  20 772]]\n",
      "--------------------------------------------------------------------------------\n",
      "Model: Naive Bayes\n",
      "\n",
      "Classification Report:\n",
      "                 precision    recall  f1-score   support\n",
      "\n",
      "      BUSINESS       0.73      0.72      0.73       955\n",
      " ENTERTAINMENT       0.78      0.75      0.76       985\n",
      "  FOOD & DRINK       0.82      0.83      0.83      1021\n",
      "     PARENTING       0.69      0.74      0.72      1030\n",
      "      POLITICS       0.79      0.73      0.76      1034\n",
      "        SPORTS       0.87      0.86      0.86       995\n",
      "STYLE & BEAUTY       0.84      0.84      0.84       986\n",
      "        TRAVEL       0.78      0.79      0.79      1008\n",
      "      WELLNESS       0.71      0.72      0.71      1009\n",
      "    WORLD NEWS       0.78      0.78      0.78       977\n",
      "\n",
      "      accuracy                           0.78     10000\n",
      "     macro avg       0.78      0.78      0.78     10000\n",
      "  weighted avg       0.78      0.78      0.78     10000\n",
      "\n",
      "Confusion Matrix:\n",
      " [[692  12  14  44  59  13  10  18  58  35]\n",
      " [ 20 737  16  42  26  31  54  24  21  14]\n",
      " [ 14  14 851  29   4   8  14  51  33   3]\n",
      " [ 27  31  22 766  24  18  23  20  91   8]\n",
      " [ 67  20   3  25 751  19   5  13  23 108]\n",
      " [ 11  40   7  24  15 854   4  13   9  18]\n",
      " [ 23  35  22  34   2   3 824  19  22   2]\n",
      " [ 20  27  42  27   8   7  23 800  29  25]\n",
      " [ 32  13  61  93  14  15  14  29 730   8]\n",
      " [ 46  16   3  23  47  13  10  34  19 766]]\n",
      "--------------------------------------------------------------------------------\n",
      "Model: Support Vector Machine\n",
      "\n",
      "Classification Report:\n",
      "                 precision    recall  f1-score   support\n",
      "\n",
      "      BUSINESS       0.71      0.79      0.75       955\n",
      " ENTERTAINMENT       0.73      0.76      0.75       985\n",
      "  FOOD & DRINK       0.82      0.83      0.82      1021\n",
      "     PARENTING       0.77      0.75      0.76      1030\n",
      "      POLITICS       0.76      0.71      0.74      1034\n",
      "        SPORTS       0.88      0.89      0.89       995\n",
      "STYLE & BEAUTY       0.87      0.83      0.85       986\n",
      "        TRAVEL       0.80      0.78      0.79      1008\n",
      "      WELLNESS       0.72      0.73      0.73      1009\n",
      "    WORLD NEWS       0.77      0.76      0.77       977\n",
      "\n",
      "      accuracy                           0.78     10000\n",
      "     macro avg       0.78      0.78      0.78     10000\n",
      "  weighted avg       0.78      0.78      0.78     10000\n",
      "\n",
      "Confusion Matrix:\n",
      " [[754  19  14  19  48  12   3  11  44  31]\n",
      " [ 29 747  17  37  28  33  30  19  24  21]\n",
      " [ 25  25 845  20   8   6  15  33  39   5]\n",
      " [ 31  38  17 776  25  11  21  24  82   5]\n",
      " [ 83  33   4  22 736  13   3  14  20 106]\n",
      " [  8  35   5  11  15 883   6  10   6  16]\n",
      " [ 20  49  22  23   6   5 817  22  19   3]\n",
      " [ 27  30  48  24  10   7  20 790  31  21]\n",
      " [ 49  23  57  56  18  16  19  25 737   9]\n",
      " [ 41  21   2  22  70  13   7  35  20 746]]\n",
      "--------------------------------------------------------------------------------\n"
     ]
    }
   ],
   "source": [
    "from sklearn.metrics import classification_report, confusion_matrix\n",
    "\n",
    "for name, model in models.items():\n",
    "    y_pred = model.predict(X_test)\n",
    "    \n",
    "    print(f\"Model: {name}\\n\")\n",
    "    print(\"Classification Report:\\n\", classification_report(y_test, y_pred, target_names=label_encoder.classes_))\n",
    "    print(\"Confusion Matrix:\\n\", confusion_matrix(y_test, y_pred))\n",
    "    print(\"-\" * 80)"
   ]
  },
  {
   "cell_type": "markdown",
   "id": "b0aeefd4-5eaa-486e-885e-fab6e6b5802d",
   "metadata": {},
   "source": [
    "<h1>Video Description</h1>"
   ]
  },
  {
   "cell_type": "markdown",
   "id": "1d56f0fa-42d2-4a6c-b46d-060f6c568a87",
   "metadata": {},
   "source": [
    "<a href=\"\">Discription</a>"
   ]
  },
  {
   "cell_type": "code",
   "execution_count": null,
   "id": "6f86a094-2452-42e5-8e94-c9a8d7d4c7a0",
   "metadata": {},
   "outputs": [],
   "source": []
  }
 ],
 "metadata": {
  "kernelspec": {
   "display_name": "Python 3 (ipykernel)",
   "language": "python",
   "name": "python3"
  },
  "language_info": {
   "codemirror_mode": {
    "name": "ipython",
    "version": 3
   },
   "file_extension": ".py",
   "mimetype": "text/x-python",
   "name": "python",
   "nbconvert_exporter": "python",
   "pygments_lexer": "ipython3",
   "version": "3.11.7"
  }
 },
 "nbformat": 4,
 "nbformat_minor": 5
}
